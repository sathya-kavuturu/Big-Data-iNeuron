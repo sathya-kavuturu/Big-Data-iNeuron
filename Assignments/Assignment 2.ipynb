{
 "cells": [
  {
   "cell_type": "markdown",
   "id": "b74224db",
   "metadata": {},
   "source": [
    "### Q1. Why do we call Python as a general purpose and high-level programming language?\n"
   ]
  },
  {
   "cell_type": "markdown",
   "id": "dee555f8",
   "metadata": {},
   "source": [
    "Python is  used for general purpose by solving different problems . It is high level because python is written in understandable language"
   ]
  },
  {
   "cell_type": "markdown",
   "id": "b39ab09d",
   "metadata": {},
   "source": [
    "<br>"
   ]
  },
  {
   "cell_type": "markdown",
   "id": "57c0ab81",
   "metadata": {},
   "source": [
    "### Q2. Why is Python called a dynamically typed language?"
   ]
  },
  {
   "cell_type": "markdown",
   "id": "3fb976d8",
   "metadata": {},
   "source": [
    "In python, whie writing code, we don't need to mention data type of a variable.  The type of variable is determined during runtime. That's why, python is called a dynamically typed language."
   ]
  },
  {
   "cell_type": "markdown",
   "id": "265a933c",
   "metadata": {},
   "source": [
    "<br>"
   ]
  },
  {
   "cell_type": "markdown",
   "id": "26fb79fb",
   "metadata": {},
   "source": [
    "### Q3. List some pros and cons of Python programming language?"
   ]
  },
  {
   "cell_type": "markdown",
   "id": "7a52971b",
   "metadata": {},
   "source": [
    "Pros: <br>\n",
    "1. Python is beginner-friendly language to learn and portable( can run code on any OS) <br>\n",
    "2. It has extensive libraries for various tasks <br>\n",
    "3. It has large community <br>\n",
    "4. It is very helpful for those who are into machine learning <br>\n",
    "\n",
    "Cons: <br>\n",
    "1. Python is slower compared to other compiled languages as it takes lot of computational power<br>\n",
    "2. Python takes huge memory consumption <br>\n",
    "3. While setting up work environment in python, many errors may appear. It's better to use an IDE<br>"
   ]
  },
  {
   "cell_type": "markdown",
   "id": "21234b67",
   "metadata": {},
   "source": [
    "<br>"
   ]
  },
  {
   "cell_type": "markdown",
   "id": "0fa44890",
   "metadata": {},
   "source": [
    "### Q4. In what all domains can we use Python?"
   ]
  },
  {
   "cell_type": "markdown",
   "id": "39ccdd45",
   "metadata": {},
   "source": [
    "In following domains, python is being used for: <br>\n",
    "1. Data Science <br>\n",
    "2. Artificial Intelligence <br>\n",
    "3. Machine Learning <br>\n",
    "4. Deep Learning <br>\n",
    "5. Web development <br>\n",
    "6. Game development <br>\n",
    "7. Scientific Programming <br>\n",
    "8. OS development etc.,\n"
   ]
  },
  {
   "cell_type": "markdown",
   "id": "397e71fb",
   "metadata": {},
   "source": [
    "<br>"
   ]
  },
  {
   "cell_type": "markdown",
   "id": "8f4c2543",
   "metadata": {},
   "source": [
    "### Q5. What are variable and how can we declare them?"
   ]
  },
  {
   "cell_type": "markdown",
   "id": "d9032262",
   "metadata": {},
   "source": [
    "Variable is a name given to a particular memory location. So, using that variable name, we can initialise any value into it or modify it using variable name. <br>\n",
    "\n",
    "new_var = \"something\" <br>\n",
    "int_var = 123"
   ]
  },
  {
   "cell_type": "markdown",
   "id": "c13e69d2",
   "metadata": {},
   "source": [
    "<br>"
   ]
  },
  {
   "cell_type": "markdown",
   "id": "d9aeedec",
   "metadata": {},
   "source": [
    "### Q6. How can we take an input from the user in Python?"
   ]
  },
  {
   "cell_type": "code",
   "execution_count": 42,
   "id": "00c34a37",
   "metadata": {},
   "outputs": [
    {
     "name": "stdout",
     "output_type": "stream",
     "text": [
      "what's your name ? : sathya\n",
      "Your name is sathya\n"
     ]
    }
   ],
   "source": [
    "# By using input() statement, we can take input from user in python.\n",
    "# Example: \n",
    "\n",
    "user_name = input(\"what's your name ? : \")\n",
    "print(f\"Your name is {user_name}\")"
   ]
  },
  {
   "cell_type": "markdown",
   "id": "af768c86",
   "metadata": {},
   "source": [
    "<br>"
   ]
  },
  {
   "cell_type": "markdown",
   "id": "95183ffb",
   "metadata": {},
   "source": [
    "### Q7. What is the default datatype of the value that has been taken as an input using input() function?"
   ]
  },
  {
   "cell_type": "markdown",
   "id": "193c9309",
   "metadata": {},
   "source": [
    "Default data type of input value is string type"
   ]
  },
  {
   "cell_type": "markdown",
   "id": "50db1059",
   "metadata": {},
   "source": [
    "<br>"
   ]
  },
  {
   "cell_type": "markdown",
   "id": "9124949d",
   "metadata": {},
   "source": [
    "### Q8. What is type casting?"
   ]
  },
  {
   "cell_type": "code",
   "execution_count": 43,
   "id": "0e639ca7",
   "metadata": {},
   "outputs": [
    {
     "name": "stdout",
     "output_type": "stream",
     "text": [
      "data type of int_var :  <class 'int'>\n",
      "data type of float_var :  <class 'float'>\n"
     ]
    }
   ],
   "source": [
    "#Type casting is about converting data type of a variable into another data type as required.\n",
    "#Example:\n",
    "\n",
    "int_var = 200\n",
    "float_var = float(int_var)\n",
    "print(\"data type of int_var : \", type(int_var))\n",
    "print(\"data type of float_var : \", type(float_var))\n"
   ]
  },
  {
   "cell_type": "markdown",
   "id": "1e9548c5",
   "metadata": {},
   "source": [
    "<br>"
   ]
  },
  {
   "cell_type": "markdown",
   "id": "fbfa751f",
   "metadata": {},
   "source": [
    "### Q9. Can we take more than one input from the user using single input() function? If yes, how? If no, why?"
   ]
  },
  {
   "cell_type": "code",
   "execution_count": 44,
   "id": "438124df",
   "metadata": {},
   "outputs": [
    {
     "name": "stdout",
     "output_type": "stream",
     "text": [
      "Enter two numbers: 12 34\n",
      "num1 is 12\n",
      "num2 is 34\n"
     ]
    }
   ],
   "source": [
    "# Using split() function, we can take multiple inputs\n",
    "\n",
    "num1, num2 = input(\"Enter two numbers: \").split()\n",
    "print(f\"num1 is {num1}\")\n",
    "print(f\"num2 is {num2}\")"
   ]
  },
  {
   "cell_type": "markdown",
   "id": "378ac0ed",
   "metadata": {},
   "source": [
    "<br>"
   ]
  },
  {
   "cell_type": "markdown",
   "id": "f2526176",
   "metadata": {},
   "source": [
    "### Q10. What are keywords?"
   ]
  },
  {
   "cell_type": "markdown",
   "id": "5061a801",
   "metadata": {},
   "source": [
    "Keywords are reserved words that have some meaning and are meant for specific purpose and can be used for only that purpose."
   ]
  },
  {
   "cell_type": "markdown",
   "id": "4c77b22a",
   "metadata": {},
   "source": [
    "<br>"
   ]
  },
  {
   "cell_type": "markdown",
   "id": "d010111d",
   "metadata": {},
   "source": [
    "### Q11. Can we use keywords as a variable? Support your answer with reason."
   ]
  },
  {
   "cell_type": "markdown",
   "id": "1907158d",
   "metadata": {},
   "source": [
    "Keywords can not be used for naming variables as keywords are meant for specific purpose.\n"
   ]
  },
  {
   "cell_type": "markdown",
   "id": "b49ba704",
   "metadata": {},
   "source": [
    "<br>"
   ]
  },
  {
   "cell_type": "markdown",
   "id": "327f6922",
   "metadata": {},
   "source": [
    "### Q12. What is indentation? What's the use of indentaion in Python?"
   ]
  },
  {
   "cell_type": "markdown",
   "id": "02634839",
   "metadata": {},
   "source": [
    "Indentation is nothing but giving a whitspace at starting line of the code.\n",
    "Generally, in other programming languages,  it is meant for readability.\n",
    "But in python, indentation is mandatory to <b>specify a block of code<b>."
   ]
  },
  {
   "cell_type": "markdown",
   "id": "2010259a",
   "metadata": {},
   "source": [
    "<br>"
   ]
  },
  {
   "cell_type": "markdown",
   "id": "2a44bfac",
   "metadata": {},
   "source": [
    "### Q13. How can we throw some output in Python?"
   ]
  },
  {
   "cell_type": "code",
   "execution_count": 45,
   "id": "10766d0f",
   "metadata": {},
   "outputs": [
    {
     "name": "stdout",
     "output_type": "stream",
     "text": [
      "something\n"
     ]
    }
   ],
   "source": [
    "# We can output something in python using print() statement\n",
    "\n",
    "print(\"something\")"
   ]
  },
  {
   "cell_type": "markdown",
   "id": "5c914244",
   "metadata": {},
   "source": [
    "<br>"
   ]
  },
  {
   "cell_type": "markdown",
   "id": "d1c4e5e8",
   "metadata": {},
   "source": [
    "### Q14. What are operators in Python?"
   ]
  },
  {
   "cell_type": "markdown",
   "id": "2220e346",
   "metadata": {},
   "source": [
    "Operators in python are used to perform operations on variables and values.\n",
    "There are different opeartors:\n",
    "1. mathematical operators(+, -, *, /, //, %, **)\n",
    "2. comparision operators(>, <, >=, <=, ==, !=)\n",
    "3. assignment operator(=)\n",
    "4. logical operators(and, or, not)\n",
    "etc."
   ]
  },
  {
   "cell_type": "markdown",
   "id": "1ab86d73",
   "metadata": {},
   "source": [
    "<br>"
   ]
  },
  {
   "cell_type": "markdown",
   "id": "de4650c8",
   "metadata": {},
   "source": [
    "### Q15. What is difference between / and // operators?"
   ]
  },
  {
   "cell_type": "code",
   "execution_count": 46,
   "id": "b88e5149",
   "metadata": {},
   "outputs": [
    {
     "name": "stdout",
     "output_type": "stream",
     "text": [
      "float divison: 3.5\n",
      "integer division: 3\n"
     ]
    }
   ],
   "source": [
    "# / is used for float division and // is used for integer division\n",
    "\n",
    "num1 = 7\n",
    "num2 = 2\n",
    "print(f\"float divison: {num1/num2}\" )\n",
    "print(f\"integer division: {num1//num2}\")\n"
   ]
  },
  {
   "cell_type": "markdown",
   "id": "8206cf79",
   "metadata": {},
   "source": [
    "<br>"
   ]
  },
  {
   "cell_type": "markdown",
   "id": "79dd927c",
   "metadata": {},
   "source": [
    "### Q16. Write a code that gives following as an output.\n",
    "```\n",
    "iNeuroniNeuroniNeuroniNeuron\n",
    "```"
   ]
  },
  {
   "cell_type": "code",
   "execution_count": 48,
   "id": "71e4581d",
   "metadata": {},
   "outputs": [
    {
     "name": "stdout",
     "output_type": "stream",
     "text": [
      "iNeuroniNeuroniNeuroniNeuron"
     ]
    }
   ],
   "source": [
    "for loop in range(4):\n",
    "    print(\"iNeuron\", end = '')"
   ]
  },
  {
   "cell_type": "markdown",
   "id": "5c9b6101",
   "metadata": {},
   "source": [
    "<br>"
   ]
  },
  {
   "cell_type": "markdown",
   "id": "d224a58b",
   "metadata": {},
   "source": [
    "### Q17. Write a code to take a number as an input from the user and check if the number is odd or even."
   ]
  },
  {
   "cell_type": "code",
   "execution_count": 49,
   "id": "a6df67b2",
   "metadata": {},
   "outputs": [
    {
     "name": "stdout",
     "output_type": "stream",
     "text": [
      "Enter a number to check if it's odd or even: 45\n",
      "45 is an Odd number\n"
     ]
    }
   ],
   "source": [
    "number = int(input(\"Enter a number to check if it's odd or even: \"))\n",
    "print(f\"{number} is an Even number\") if number%2==0 else print(f\"{number} is an Odd number\")"
   ]
  },
  {
   "cell_type": "markdown",
   "id": "800aee8f",
   "metadata": {},
   "source": [
    "<br>"
   ]
  },
  {
   "cell_type": "markdown",
   "id": "7c5da04f",
   "metadata": {},
   "source": [
    "### Q18. What are boolean operator?"
   ]
  },
  {
   "cell_type": "code",
   "execution_count": 50,
   "id": "5a53297d",
   "metadata": {},
   "outputs": [
    {
     "name": "stdout",
     "output_type": "stream",
     "text": [
      "Any one condition needs to be satisfied here\n"
     ]
    }
   ],
   "source": [
    "# Boolean opeartors are \"or\", \"not\", \"and\". \n",
    "# They are used to finally get True or False value and\n",
    "# used in conditional or looping statements to get execution of particular code based on conditions.\n",
    "\n",
    "num1 = 1\n",
    "num2 = 2\n",
    "if num1==1 and num2==1:\n",
    "    print(\"Both conditions need to be satisfied here\")\n",
    "if num1==1 or num2==1:\n",
    "    print(\"Any one condition needs to be satisfied here\")\n"
   ]
  },
  {
   "cell_type": "markdown",
   "id": "49179f2b",
   "metadata": {},
   "source": [
    "<br>"
   ]
  },
  {
   "cell_type": "markdown",
   "id": "16108718",
   "metadata": {},
   "source": [
    "### Q19. What will the output of the following?\n",
    "```\n",
    "1 or 0\n",
    "\n",
    "0 and 0\n",
    "\n",
    "True and False and True\n",
    "\n",
    "1 or 0 or 0\n",
    "```"
   ]
  },
  {
   "cell_type": "markdown",
   "id": "aa9e4c6b",
   "metadata": {},
   "source": [
    "1 <br>\n",
    "0 <br>\n",
    "False <br>\n",
    "1 <br>"
   ]
  },
  {
   "cell_type": "markdown",
   "id": "aac7b7c6",
   "metadata": {},
   "source": [
    "<br>"
   ]
  },
  {
   "cell_type": "markdown",
   "id": "1918e9fd",
   "metadata": {},
   "source": [
    "### Q20. What are conditional statements in Python?"
   ]
  },
  {
   "cell_type": "markdown",
   "id": "512ab2c7",
   "metadata": {},
   "source": [
    "Conditionl statements in python represent having a condition and by satisfying the condition, code under that condition will get executed\n",
    "\n",
    "There are 3 conditional statements in python: if, if-else, if-elif-else.\n"
   ]
  },
  {
   "cell_type": "markdown",
   "id": "47611815",
   "metadata": {},
   "source": [
    "<br>"
   ]
  },
  {
   "cell_type": "markdown",
   "id": "75c0103c",
   "metadata": {},
   "source": [
    "### Q21. What is use of 'if', 'elif' and 'else' keywords?"
   ]
  },
  {
   "cell_type": "code",
   "execution_count": 51,
   "id": "5cf42af7",
   "metadata": {},
   "outputs": [
    {
     "name": "stdout",
     "output_type": "stream",
     "text": [
      "Number is 3\n"
     ]
    }
   ],
   "source": [
    "#  'if', 'elif' and 'else' keywords are used in conditional statements \n",
    "# if statement is used to execute code block under it if condition is true.\n",
    "# elif statement is used after if statement, in case if statement is false, then it goes for the lif statement.\n",
    "# else statement's code block get executed when above if and elif statements conditions are false\n",
    "\n",
    "num = 3\n",
    "if num==1:\n",
    "    print(\"Number is 1\")\n",
    "elif num==2:\n",
    "    print(\"Number is 2\")\n",
    "elif num==3:\n",
    "    print(\"Number is 3\")\n",
    "else:\n",
    "    print(\"other number\")\n"
   ]
  },
  {
   "cell_type": "markdown",
   "id": "8beed037",
   "metadata": {},
   "source": [
    "<br>"
   ]
  },
  {
   "cell_type": "markdown",
   "id": "378eff0e",
   "metadata": {},
   "source": [
    "### Q22. Write a code to take the age of person as an input and if age >= 18 display \"I can vote\". If age is < 18 display \"I can't vote\"."
   ]
  },
  {
   "cell_type": "code",
   "execution_count": 52,
   "id": "d6a95058",
   "metadata": {},
   "outputs": [
    {
     "name": "stdout",
     "output_type": "stream",
     "text": [
      "Enter your age to know if you can vote or not: 45\n",
      "I can vote\n"
     ]
    }
   ],
   "source": [
    "age = int(input(\"Enter your age to know if you can vote or not: \"))\n",
    "if age >= 18:\n",
    "    print(\"I can vote\")\n",
    "elif age < 18 and age > 0:\n",
    "    print(\"I can't vote\")\n",
    "else:\n",
    "    print(\"Age can't be negative\")"
   ]
  },
  {
   "cell_type": "markdown",
   "id": "43e66e46",
   "metadata": {},
   "source": [
    "<br>"
   ]
  },
  {
   "cell_type": "markdown",
   "id": "9031a354",
   "metadata": {},
   "source": [
    "### Q23. Write a code that displays the sum of all the even numbers from the given list.\n",
    "```\n",
    "numbers = [12, 75, 150, 180, 145, 525, 50]\n",
    "```"
   ]
  },
  {
   "cell_type": "code",
   "execution_count": 53,
   "id": "6f1a1b9d",
   "metadata": {},
   "outputs": [
    {
     "name": "stdout",
     "output_type": "stream",
     "text": [
      "1137\n"
     ]
    }
   ],
   "source": [
    "numbers = [12, 75, 150, 180, 145, 525, 50]\n",
    "\n",
    "# print(sum(numbers))\n",
    "# or\n",
    "\n",
    "sum = 0\n",
    "for each_num in numbers:\n",
    "    sum += each_num\n",
    "print(sum)\n",
    "    "
   ]
  },
  {
   "cell_type": "markdown",
   "id": "94d9b4ee",
   "metadata": {},
   "source": [
    "<br>"
   ]
  },
  {
   "cell_type": "markdown",
   "id": "e9293805",
   "metadata": {},
   "source": [
    "### Q24. Write a code to take 3 numbers as an input from the user and display the greatest no as output."
   ]
  },
  {
   "cell_type": "code",
   "execution_count": 54,
   "id": "6ac14b78",
   "metadata": {},
   "outputs": [
    {
     "name": "stdout",
     "output_type": "stream",
     "text": [
      "Enter three numbers: 1 2 3\n",
      "3 is the greatest number\n"
     ]
    }
   ],
   "source": [
    "num1, num2, num3 = input(\"Enter three numbers: \" ).split()\n",
    "\n",
    "# print(max(num1, num2, num3)) \n",
    "# or \n",
    "\n",
    "if num1 > num2 and num1 > num3:\n",
    "    print(f\"{num1} is the greatest number\")\n",
    "elif num2>num1 and num2>num3:\n",
    "    print(f\"{num2} is the greatest number\")\n",
    "else:\n",
    "    print(f\"{num3} is the greatest number\")\n"
   ]
  },
  {
   "cell_type": "markdown",
   "id": "af0017b1",
   "metadata": {},
   "source": [
    "<br>"
   ]
  },
  {
   "cell_type": "markdown",
   "id": "b8ea83e8",
   "metadata": {},
   "source": [
    "### Q25. Write a program to display only those numbers from a list that satisfy the following conditions\n",
    "\n",
    "- The number must be divisible by five\n",
    "\n",
    "- If the number is greater than 150, then skip it and move to the next number\n",
    "\n",
    "- If the number is greater than 500, then stop the loop\n",
    "```\n",
    "numbers = [12, 75, 150, 180, 145, 525, 50]"
   ]
  },
  {
   "cell_type": "code",
   "execution_count": 55,
   "id": "bb5b35d3",
   "metadata": {},
   "outputs": [
    {
     "name": "stdout",
     "output_type": "stream",
     "text": [
      "[75, 150, 145]\n"
     ]
    }
   ],
   "source": [
    "numbers = [12, 75, 150, 180, 145, 525, 50]\n",
    "new_list = []\n",
    "for each_num in numbers:\n",
    "    if each_num > 500:\n",
    "        break\n",
    "    elif each_num > 150:\n",
    "        continue\n",
    "    elif each_num%5 == 0:\n",
    "        new_list.append(each_num)\n",
    "\n",
    "print(new_list)"
   ]
  },
  {
   "cell_type": "markdown",
   "id": "848c0c6f",
   "metadata": {},
   "source": [
    "<br>"
   ]
  },
  {
   "cell_type": "markdown",
   "id": "c4dccb35",
   "metadata": {},
   "source": [
    "### Q26. What is a string? How can we declare string in Python?"
   ]
  },
  {
   "cell_type": "code",
   "execution_count": 1,
   "id": "922a635d",
   "metadata": {},
   "outputs": [
    {
     "name": "stdout",
     "output_type": "stream",
     "text": [
      "Sam CSE CSE101\n"
     ]
    }
   ],
   "source": [
    "# Strings are used to store unicode characters.\n",
    "# They are declared by assigning them to a variable in single or double quotation marks\n",
    "\n",
    "name = \"Sam\"\n",
    "department = \"CSE\"\n",
    "course = 'CSE101'\n",
    "print(name, department, course)"
   ]
  },
  {
   "cell_type": "markdown",
   "id": "c0f98183",
   "metadata": {},
   "source": [
    "<br>"
   ]
  },
  {
   "cell_type": "markdown",
   "id": "b803a1e5",
   "metadata": {},
   "source": [
    "### Q27. How can we access the string using its index?"
   ]
  },
  {
   "cell_type": "code",
   "execution_count": 5,
   "id": "0488514b",
   "metadata": {},
   "outputs": [
    {
     "name": "stdout",
     "output_type": "stream",
     "text": [
      "h\n",
      "This is good to know!\n",
      "od to\n",
      "!wonk ot doog si sihT\n"
     ]
    }
   ],
   "source": [
    "# A string can be accessed using its index by keeping it square brackets. Index starts from 0.\n",
    "# -1 represents last character from the string\n",
    "# str1[start_index : end_index : step], start_index is included, end_index is excluded, step represents how many indexes to step over\n",
    "\n",
    "str1 = \"This is good to know!\"\n",
    "print(str1[1]) # prints character at index 1\n",
    "print(str1[:]) # prints entire string\n",
    "print(str1[10:15]) # prints string from index 10 to index 15\n",
    "print(str1[::-1]) # prints string in reverse order"
   ]
  },
  {
   "cell_type": "markdown",
   "id": "17b43901",
   "metadata": {},
   "source": [
    "<br>"
   ]
  },
  {
   "cell_type": "markdown",
   "id": "d8fe90d2",
   "metadata": {},
   "source": [
    "### Q28. Write a code to get the desired output of the following\n",
    "```\n",
    "string = \"Big Data iNeuron\"\n",
    "desired_output = \"iNeuron\"\n",
    "```"
   ]
  },
  {
   "cell_type": "code",
   "execution_count": 12,
   "id": "0f728801",
   "metadata": {},
   "outputs": [
    {
     "name": "stdout",
     "output_type": "stream",
     "text": [
      "iNeuron\n"
     ]
    }
   ],
   "source": [
    "string = \"Big Data iNeuron\"\n",
    "# print(string[-7:])\n",
    "# or \n",
    "print(string[9:])"
   ]
  },
  {
   "cell_type": "markdown",
   "id": "026a669c",
   "metadata": {},
   "source": [
    "<br>"
   ]
  },
  {
   "cell_type": "markdown",
   "id": "58a86eb6",
   "metadata": {},
   "source": [
    "### Q29. Write a code to get the desired output of the following\n",
    "```\n",
    "string = \"Big Data iNeuron\"\n",
    "desired_output = \"norueNi\"\n",
    "```"
   ]
  },
  {
   "cell_type": "code",
   "execution_count": 15,
   "id": "92045772",
   "metadata": {},
   "outputs": [
    {
     "name": "stdout",
     "output_type": "stream",
     "text": [
      "norueNi\n"
     ]
    }
   ],
   "source": [
    "string = \"Big Data iNeuron\"\n",
    "sub_string = string[9:]\n",
    "print(sub_string[::-1])"
   ]
  },
  {
   "cell_type": "markdown",
   "id": "056e92d2",
   "metadata": {},
   "source": [
    "<br>"
   ]
  },
  {
   "cell_type": "markdown",
   "id": "ae4d6f05",
   "metadata": {},
   "source": [
    "### Q30. Reverse the string given in the above question."
   ]
  },
  {
   "cell_type": "code",
   "execution_count": 17,
   "id": "6d90dcf3",
   "metadata": {},
   "outputs": [
    {
     "name": "stdout",
     "output_type": "stream",
     "text": [
      "norueNi ataD giB\n"
     ]
    }
   ],
   "source": [
    "string = \"Big Data iNeuron\"\n",
    "print(string[::-1])"
   ]
  },
  {
   "cell_type": "markdown",
   "id": "bc943dde",
   "metadata": {},
   "source": [
    "<br>"
   ]
  },
  {
   "cell_type": "markdown",
   "id": "3988ff10",
   "metadata": {},
   "source": [
    "### Q31. How can you delete entire string at once?"
   ]
  },
  {
   "cell_type": "code",
   "execution_count": 4,
   "id": "d95b2660",
   "metadata": {},
   "outputs": [
    {
     "name": "stdout",
     "output_type": "stream",
     "text": [
      "Big Data iNeuron\n",
      "\n"
     ]
    }
   ],
   "source": [
    "string = \"Big Data iNeuron\"\n",
    "print(string)\n",
    "# del string\n",
    "# or \n",
    "string = \"\"\n",
    "print(string)"
   ]
  },
  {
   "cell_type": "markdown",
   "id": "a3a8348d",
   "metadata": {},
   "source": [
    "<br>"
   ]
  },
  {
   "cell_type": "markdown",
   "id": "e8d9f51a",
   "metadata": {},
   "source": [
    "### Q32. What is escape sequence?"
   ]
  },
  {
   "cell_type": "code",
   "execution_count": 6,
   "id": "75579c30",
   "metadata": {},
   "outputs": [
    {
     "name": "stdout",
     "output_type": "stream",
     "text": [
      "I am naresh's friend\n",
      "i am good. \n",
      "This is something new\n"
     ]
    }
   ],
   "source": [
    "# An escape character('\\') is used to avoid getting errors when illegal characters are used in a string\n",
    "print('I am naresh\\'s friend')\n",
    "print(\"i am good. \\nThis is something new\")"
   ]
  },
  {
   "cell_type": "markdown",
   "id": "242d54b1",
   "metadata": {},
   "source": [
    "<br>"
   ]
  },
  {
   "cell_type": "markdown",
   "id": "3273f306",
   "metadata": {},
   "source": [
    "### Q33. How can you print the below string?\n",
    "```\n",
    "'iNeuron's Big Data Course'\n",
    "```"
   ]
  },
  {
   "cell_type": "code",
   "execution_count": 8,
   "id": "92e9a649",
   "metadata": {},
   "outputs": [
    {
     "name": "stdout",
     "output_type": "stream",
     "text": [
      "iNeuron's Big Data Course\n"
     ]
    }
   ],
   "source": [
    "print('iNeuron\\'s Big Data Course')"
   ]
  },
  {
   "cell_type": "markdown",
   "id": "0921f492",
   "metadata": {},
   "source": [
    "<br>"
   ]
  },
  {
   "cell_type": "markdown",
   "id": "efe13634",
   "metadata": {},
   "source": [
    "### Q34. What is a list in Python?"
   ]
  },
  {
   "cell_type": "code",
   "execution_count": 14,
   "id": "53ef1d1b",
   "metadata": {},
   "outputs": [],
   "source": [
    "# List is a built-in data type in python. It is used to store multiple values in a single variable."
   ]
  },
  {
   "cell_type": "markdown",
   "id": "2d63ca43",
   "metadata": {},
   "source": [
    "<br>"
   ]
  },
  {
   "cell_type": "markdown",
   "id": "4bb60f4b",
   "metadata": {},
   "source": [
    "### Q35. How can you create a list in Python?"
   ]
  },
  {
   "cell_type": "code",
   "execution_count": 15,
   "id": "72f95cdd",
   "metadata": {},
   "outputs": [
    {
     "name": "stdout",
     "output_type": "stream",
     "text": [
      "[1, 2, 3, 'sam', 23.456, 'sjsdkfgs32']\n"
     ]
    }
   ],
   "source": [
    "# List is created by placing elements in a square bracket and separated by comma\n",
    "\n",
    "list1 = [1,2,3,\"sam\",23.456,\"sjsdkfgs32\"]\n",
    "print(list1)"
   ]
  },
  {
   "cell_type": "markdown",
   "id": "33a6fe20",
   "metadata": {},
   "source": [
    "<br>"
   ]
  },
  {
   "cell_type": "markdown",
   "id": "4a5c8018",
   "metadata": {},
   "source": [
    "### Q36. How can we access the elements in a list?"
   ]
  },
  {
   "cell_type": "code",
   "execution_count": 18,
   "id": "43d6666d",
   "metadata": {},
   "outputs": [
    {
     "name": "stdout",
     "output_type": "stream",
     "text": [
      "3\n",
      "[1, 2, 3, 'sam']\n"
     ]
    }
   ],
   "source": [
    "# Elements in a list can be accessed by it's index number. Index starts from 0\n",
    "\n",
    "list1 = [1,2,3,\"sam\",23.456,\"sjsdkfgs32\"]\n",
    "print(list1[2])\n",
    "print(list1[:4])"
   ]
  },
  {
   "cell_type": "markdown",
   "id": "0f0f84c9",
   "metadata": {},
   "source": [
    "<br>"
   ]
  },
  {
   "cell_type": "markdown",
   "id": "df2ce0da",
   "metadata": {},
   "source": [
    "### Q37. Write a code to access the word \"iNeuron\" from the given list.\n",
    "```\n",
    "lst = [1,2,3,\"Hi\",[45,54, \"iNeuron\"], \"Big Data\"]\n",
    "``` "
   ]
  },
  {
   "cell_type": "code",
   "execution_count": 20,
   "id": "b757dfb4",
   "metadata": {},
   "outputs": [
    {
     "name": "stdout",
     "output_type": "stream",
     "text": [
      "iNeuron\n"
     ]
    }
   ],
   "source": [
    "lst = [1,2,3,\"Hi\",[45,54, \"iNeuron\"], \"Big Data\"]\n",
    "print(lst[4][2])"
   ]
  },
  {
   "cell_type": "markdown",
   "id": "3f355044",
   "metadata": {},
   "source": [
    "<br>"
   ]
  },
  {
   "cell_type": "markdown",
   "id": "042bf2c8",
   "metadata": {},
   "source": [
    "### Q38. Take a list as an input from the user and find the length of the list."
   ]
  },
  {
   "cell_type": "code",
   "execution_count": 23,
   "id": "9dd4e089",
   "metadata": {},
   "outputs": [
    {
     "name": "stdout",
     "output_type": "stream",
     "text": [
      "Enter a list of numbers and separate each element using comma : 1,2,3,4 ,5,4,5,4\n",
      "Length of the list is 8\n"
     ]
    }
   ],
   "source": [
    "user = input(\"Enter a list of numbers and separate each element using comma : \").split(',')\n",
    "print(f\"Length of the list is {len(user)}\")"
   ]
  },
  {
   "cell_type": "markdown",
   "id": "1bca66ae",
   "metadata": {},
   "source": [
    "<br>"
   ]
  },
  {
   "cell_type": "markdown",
   "id": "247a5fd1",
   "metadata": {},
   "source": [
    "### Q39. Add the word \"Big\" in the 3rd index of the given list.\n",
    "```\n",
    "lst = [\"Welcome\", \"to\", \"Data\", \"course\"]\n",
    "```"
   ]
  },
  {
   "cell_type": "code",
   "execution_count": 26,
   "id": "39bb7e46",
   "metadata": {},
   "outputs": [
    {
     "name": "stdout",
     "output_type": "stream",
     "text": [
      "['Welcome', 'to', 'Big', 'Data', 'course']\n"
     ]
    }
   ],
   "source": [
    "lst = [\"Welcome\", \"to\", \"Data\", \"course\"]\n",
    "lst.insert(2, \"Big\")\n",
    "print(lst)"
   ]
  },
  {
   "cell_type": "markdown",
   "id": "69f99af8",
   "metadata": {},
   "source": [
    "<br>"
   ]
  },
  {
   "cell_type": "markdown",
   "id": "a46c6e8a",
   "metadata": {},
   "source": [
    "### Q40. What is a tuple? How is it different from list?"
   ]
  },
  {
   "cell_type": "code",
   "execution_count": 31,
   "id": "e7141da2",
   "metadata": {},
   "outputs": [
    {
     "name": "stdout",
     "output_type": "stream",
     "text": [
      "('Welcome', 'to', 'Data', 'course')\n"
     ]
    }
   ],
   "source": [
    "# Tuple is also used to store multiple values in a single variable.\n",
    "# In tuple, elements are unchangeable( immutable)\n",
    "# Tuple is represented using round brackets and elements are separated by comma.\n",
    "\n",
    "tuple1 = (\"Welcome\", \"to\", \"Data\", \"course\")\n",
    "print(tuple1)\n",
    "# tuple[1]=\"sam\" is not allowed"
   ]
  },
  {
   "cell_type": "markdown",
   "id": "51bb71eb",
   "metadata": {},
   "source": [
    "<br>"
   ]
  },
  {
   "cell_type": "markdown",
   "id": "5075d62e",
   "metadata": {},
   "source": [
    "### Q41. How can you create a tuple in Python?"
   ]
  },
  {
   "cell_type": "code",
   "execution_count": 32,
   "id": "79b99822",
   "metadata": {},
   "outputs": [
    {
     "name": "stdout",
     "output_type": "stream",
     "text": [
      "('Welcome', 'to', 'Data', 'course')\n"
     ]
    }
   ],
   "source": [
    "tuple1 = (\"Welcome\", \"to\", \"Data\", \"course\")\n",
    "print(tuple1)"
   ]
  },
  {
   "cell_type": "markdown",
   "id": "1024c683",
   "metadata": {},
   "source": [
    "<br>"
   ]
  },
  {
   "cell_type": "markdown",
   "id": "3481e09a",
   "metadata": {},
   "source": [
    "### Q42. Create a tuple and try to add your name in the tuple. Are you able to do it? Support your answer with reason."
   ]
  },
  {
   "cell_type": "code",
   "execution_count": 35,
   "id": "64958c21",
   "metadata": {},
   "outputs": [
    {
     "ename": "TypeError",
     "evalue": "'tuple' object does not support item assignment",
     "output_type": "error",
     "traceback": [
      "\u001b[1;31m---------------------------------------------------------------------------\u001b[0m",
      "\u001b[1;31mTypeError\u001b[0m                                 Traceback (most recent call last)",
      "Cell \u001b[1;32mIn [35], line 2\u001b[0m\n\u001b[0;32m      1\u001b[0m tuple2 \u001b[38;5;241m=\u001b[39m (\u001b[38;5;124m\"\u001b[39m\u001b[38;5;124msam\u001b[39m\u001b[38;5;124m\"\u001b[39m, \u001b[38;5;124m\"\u001b[39m\u001b[38;5;124msunny\u001b[39m\u001b[38;5;124m\"\u001b[39m)\n\u001b[1;32m----> 2\u001b[0m \u001b[43mtuple2\u001b[49m\u001b[43m[\u001b[49m\u001b[38;5;241;43m1\u001b[39;49m\u001b[43m]\u001b[49m\u001b[38;5;241m=\u001b[39m\u001b[38;5;124m\"\u001b[39m\u001b[38;5;124mswaroop\u001b[39m\u001b[38;5;124m\"\u001b[39m\n\u001b[0;32m      3\u001b[0m \u001b[38;5;66;03m# adding element to a tuple is not possible as elemnts in tuple are immutable\u001b[39;00m\n",
      "\u001b[1;31mTypeError\u001b[0m: 'tuple' object does not support item assignment"
     ]
    }
   ],
   "source": [
    "tuple2 = (\"sam\", \"sunny\")\n",
    "tuple2[1]=\"swaroop\"\n",
    "# adding element to a tuple is not possible as elemnts in tuple are immutable"
   ]
  },
  {
   "cell_type": "markdown",
   "id": "3180058c",
   "metadata": {},
   "source": [
    "<br>"
   ]
  },
  {
   "cell_type": "markdown",
   "id": "b5f4063d",
   "metadata": {},
   "source": [
    "### Q43. Can two tuple be appended. If yes, write a code for it. If not, why?"
   ]
  },
  {
   "cell_type": "code",
   "execution_count": 36,
   "id": "fe4286fa",
   "metadata": {},
   "outputs": [
    {
     "name": "stdout",
     "output_type": "stream",
     "text": [
      "('sam', 'sunny', 'tom', 'sandy', 'sachin')\n"
     ]
    }
   ],
   "source": [
    "tuple1 = (\"sam\", \"sunny\", \"tom\")\n",
    "tuple2 = (\"sandy\", \"sachin\")\n",
    "tuple3 = tuple1 + tuple2\n",
    "print(tuple3)"
   ]
  },
  {
   "cell_type": "markdown",
   "id": "89a42fb9",
   "metadata": {},
   "source": [
    "<br>"
   ]
  },
  {
   "cell_type": "markdown",
   "id": "32b27eb6",
   "metadata": {},
   "source": [
    "### Q44. Take a tuple as an input and print the count of elements in it."
   ]
  },
  {
   "cell_type": "code",
   "execution_count": 41,
   "id": "75674f86",
   "metadata": {},
   "outputs": [
    {
     "name": "stdout",
     "output_type": "stream",
     "text": [
      "Enter a list of numbers and separate each element using comma : 1,2,3,4,sam,345\n",
      "('1', '2', '3', '4', 'sam', '345')\n",
      "Length of the tuple is 6\n"
     ]
    }
   ],
   "source": [
    "user = tuple(input(\"Enter a list of numbers and separate each element using comma : \").split(','))\n",
    "print(user)\n",
    "print(f\"Length of the tuple is {len(user)}\")"
   ]
  },
  {
   "cell_type": "markdown",
   "id": "9dfc00f1",
   "metadata": {},
   "source": [
    "<br>"
   ]
  },
  {
   "cell_type": "markdown",
   "id": "b9b1ab5f",
   "metadata": {},
   "source": [
    "### Q45. What are sets in Python?"
   ]
  },
  {
   "cell_type": "code",
   "execution_count": null,
   "id": "0131c692",
   "metadata": {},
   "outputs": [],
   "source": []
  },
  {
   "cell_type": "markdown",
   "id": "04d82cff",
   "metadata": {},
   "source": [
    "<br>"
   ]
  },
  {
   "cell_type": "markdown",
   "id": "08c213ff",
   "metadata": {},
   "source": [
    "### Q46. How can you create a set?"
   ]
  },
  {
   "cell_type": "code",
   "execution_count": null,
   "id": "535ea7b4",
   "metadata": {},
   "outputs": [],
   "source": [
    "# A set can be created by "
   ]
  },
  {
   "cell_type": "markdown",
   "id": "eafbe99c",
   "metadata": {},
   "source": [
    "<br>"
   ]
  },
  {
   "cell_type": "markdown",
   "id": "2471e7c6",
   "metadata": {},
   "source": [
    "### Q47. Create a set and add \"iNeuron\" in your set."
   ]
  },
  {
   "cell_type": "markdown",
   "id": "7cb3d5c1",
   "metadata": {},
   "source": [
    "<br>"
   ]
  },
  {
   "cell_type": "markdown",
   "id": "c1b44c04",
   "metadata": {},
   "source": [
    "### Q48. Try to add multiple values using add() function."
   ]
  },
  {
   "cell_type": "markdown",
   "id": "cb3f25cf",
   "metadata": {},
   "source": [
    "<br>"
   ]
  },
  {
   "cell_type": "markdown",
   "id": "625571b7",
   "metadata": {},
   "source": [
    "### Q49. How is update() different from add()?"
   ]
  },
  {
   "cell_type": "markdown",
   "id": "496ef1e2",
   "metadata": {},
   "source": [
    "<br>"
   ]
  },
  {
   "cell_type": "markdown",
   "id": "70ebc6c4",
   "metadata": {},
   "source": [
    "### Q50. What is clear() in sets?"
   ]
  },
  {
   "cell_type": "markdown",
   "id": "a2620b24",
   "metadata": {},
   "source": [
    "<br>"
   ]
  },
  {
   "cell_type": "markdown",
   "id": "2b163d8b",
   "metadata": {},
   "source": [
    "### Q51. What is frozen set?"
   ]
  },
  {
   "cell_type": "markdown",
   "id": "28d50a3a",
   "metadata": {},
   "source": [
    "<br>"
   ]
  },
  {
   "cell_type": "markdown",
   "id": "23bb1db2",
   "metadata": {},
   "source": [
    "### Q52. How is frozen set different from set?"
   ]
  },
  {
   "cell_type": "markdown",
   "id": "f12459d9",
   "metadata": {},
   "source": [
    "<br>"
   ]
  },
  {
   "cell_type": "markdown",
   "id": "2a84a448",
   "metadata": {},
   "source": [
    "### Q53. What is union() in sets? Explain via code."
   ]
  },
  {
   "cell_type": "markdown",
   "id": "cb4f9af0",
   "metadata": {},
   "source": [
    "<br>"
   ]
  },
  {
   "cell_type": "markdown",
   "id": "2ec0407d",
   "metadata": {},
   "source": [
    "### Q54. What is intersection() in sets? Explain via code."
   ]
  },
  {
   "cell_type": "markdown",
   "id": "ac77496d",
   "metadata": {},
   "source": [
    "<br>"
   ]
  },
  {
   "cell_type": "markdown",
   "id": "277ec2f6",
   "metadata": {},
   "source": [
    "### Q55. What is dictionary ibn Python?"
   ]
  },
  {
   "cell_type": "markdown",
   "id": "ef77a99c",
   "metadata": {},
   "source": [
    "<br>"
   ]
  },
  {
   "cell_type": "markdown",
   "id": "4438939c",
   "metadata": {},
   "source": [
    " ### Q56. How is dictionary different from all other data structures."
   ]
  },
  {
   "cell_type": "markdown",
   "id": "7b266850",
   "metadata": {},
   "source": [
    "<br>"
   ]
  },
  {
   "cell_type": "markdown",
   "id": "3a9b6b55",
   "metadata": {},
   "source": [
    "### Q57. How can we delare a dictionary in Python?"
   ]
  },
  {
   "cell_type": "markdown",
   "id": "a95590d7",
   "metadata": {},
   "source": [
    "<br>"
   ]
  },
  {
   "cell_type": "markdown",
   "id": "cc59a223",
   "metadata": {},
   "source": [
    "### Q58. What will the output of the following?\n",
    "```\n",
    "var = {}\n",
    "print(type(var))\n",
    "```"
   ]
  },
  {
   "cell_type": "markdown",
   "id": "71b0f525",
   "metadata": {},
   "source": [
    "<br>"
   ]
  },
  {
   "cell_type": "markdown",
   "id": "aa33ce2d",
   "metadata": {},
   "source": [
    "### Q59. How can we add an element in a dictionary?"
   ]
  },
  {
   "cell_type": "markdown",
   "id": "462bcf8d",
   "metadata": {},
   "source": [
    "<br>"
   ]
  },
  {
   "cell_type": "markdown",
   "id": "22baf110",
   "metadata": {},
   "source": [
    "### Q60. Create a dictionary and access all the values in that dictionary."
   ]
  },
  {
   "cell_type": "markdown",
   "id": "643e8515",
   "metadata": {},
   "source": [
    "<br>"
   ]
  },
  {
   "cell_type": "code",
   "execution_count": null,
   "id": "e763f6d7",
   "metadata": {},
   "outputs": [],
   "source": []
  },
  {
   "cell_type": "code",
   "execution_count": null,
   "id": "dbb4be98",
   "metadata": {},
   "outputs": [],
   "source": []
  }
 ],
 "metadata": {
  "kernelspec": {
   "display_name": "Python 3 (ipykernel)",
   "language": "python",
   "name": "python3"
  },
  "language_info": {
   "codemirror_mode": {
    "name": "ipython",
    "version": 3
   },
   "file_extension": ".py",
   "mimetype": "text/x-python",
   "name": "python",
   "nbconvert_exporter": "python",
   "pygments_lexer": "ipython3",
   "version": "3.10.7"
  }
 },
 "nbformat": 4,
 "nbformat_minor": 5
}
