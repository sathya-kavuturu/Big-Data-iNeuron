{
 "cells": [
  {
   "cell_type": "markdown",
   "id": "b74224db",
   "metadata": {},
   "source": [
    "### Q1. Why do we call Python as a general purpose and high-level programming language?\n"
   ]
  },
  {
   "cell_type": "markdown",
   "id": "dee555f8",
   "metadata": {},
   "source": [
    "Python is  used for general purpose by solving different problems . It is high level because python is written in understandable language"
   ]
  },
  {
   "cell_type": "markdown",
   "id": "b39ab09d",
   "metadata": {},
   "source": [
    "<br>"
   ]
  },
  {
   "cell_type": "markdown",
   "id": "57c0ab81",
   "metadata": {},
   "source": [
    "### Q2. Why is Python called a dynamically typed language?"
   ]
  },
  {
   "cell_type": "markdown",
   "id": "3fb976d8",
   "metadata": {},
   "source": [
    "In python, whie writing code, we don't need to mention data type of a variable.  The type of variable is determined during runtime. That's why, python is called a dynamically typed language."
   ]
  },
  {
   "cell_type": "markdown",
   "id": "265a933c",
   "metadata": {},
   "source": [
    "<br>"
   ]
  },
  {
   "cell_type": "markdown",
   "id": "26fb79fb",
   "metadata": {},
   "source": [
    "### Q3. List some pros and cons of Python programming language?"
   ]
  },
  {
   "cell_type": "markdown",
   "id": "7a52971b",
   "metadata": {},
   "source": [
    "Pros: <br>\n",
    "1. Python is beginner-friendly language to learn and portable( can run code on any OS) <br>\n",
    "2. It has extensive libraries for various tasks <br>\n",
    "3. It has large community <br>\n",
    "4. It is very helpful for those who are into machine learning <br>\n",
    "\n",
    "Cons: <br>\n",
    "1. Python is slower compared to other compiled languages as it takes lot of computational power<br>\n",
    "2. Python takes huge memory consumption <br>\n",
    "3. While setting up work environment in python, many errors may appear. It's better to use an IDE<br>"
   ]
  },
  {
   "cell_type": "markdown",
   "id": "21234b67",
   "metadata": {},
   "source": [
    "<br>"
   ]
  },
  {
   "cell_type": "markdown",
   "id": "0fa44890",
   "metadata": {},
   "source": [
    "### Q4. In what all domains can we use Python?"
   ]
  },
  {
   "cell_type": "markdown",
   "id": "39ccdd45",
   "metadata": {},
   "source": [
    "In following domains, python is being used for: <br>\n",
    "1. Data Science <br>\n",
    "2. Artificial Intelligence <br>\n",
    "3. Machine Learning <br>\n",
    "4. Deep Learning <br>\n",
    "5. Web development <br>\n",
    "6. Game development <br>\n",
    "7. Scientific Programming <br>\n",
    "8. OS development etc.,\n"
   ]
  },
  {
   "cell_type": "markdown",
   "id": "397e71fb",
   "metadata": {},
   "source": [
    "<br>"
   ]
  },
  {
   "cell_type": "markdown",
   "id": "8f4c2543",
   "metadata": {},
   "source": [
    "### Q5. What are variable and how can we declare them?"
   ]
  },
  {
   "cell_type": "markdown",
   "id": "d9032262",
   "metadata": {},
   "source": [
    "Variable is a name given to a particular memory location. So, using that variable name, we can initialise any value into it or modify it using variable name. <br>\n",
    "\n",
    "new_var = \"something\" <br>\n",
    "int_var = 123"
   ]
  },
  {
   "cell_type": "markdown",
   "id": "c13e69d2",
   "metadata": {},
   "source": [
    "<br>"
   ]
  },
  {
   "cell_type": "markdown",
   "id": "d9aeedec",
   "metadata": {},
   "source": [
    "### Q6. How can we take an input from the user in Python?"
   ]
  },
  {
   "cell_type": "code",
   "execution_count": 42,
   "id": "00c34a37",
   "metadata": {},
   "outputs": [
    {
     "name": "stdout",
     "output_type": "stream",
     "text": [
      "what's your name ? : sathya\n",
      "Your name is sathya\n"
     ]
    }
   ],
   "source": [
    "# By using input() statement, we can take input from user in python.\n",
    "# Example: \n",
    "\n",
    "user_name = input(\"what's your name ? : \")\n",
    "print(f\"Your name is {user_name}\")"
   ]
  },
  {
   "cell_type": "markdown",
   "id": "af768c86",
   "metadata": {},
   "source": [
    "<br>"
   ]
  },
  {
   "cell_type": "markdown",
   "id": "95183ffb",
   "metadata": {},
   "source": [
    "### Q7. What is the default datatype of the value that has been taken as an input using input() function?"
   ]
  },
  {
   "cell_type": "markdown",
   "id": "193c9309",
   "metadata": {},
   "source": [
    "Default data type of input value is string type"
   ]
  },
  {
   "cell_type": "markdown",
   "id": "50db1059",
   "metadata": {},
   "source": [
    "<br>"
   ]
  },
  {
   "cell_type": "markdown",
   "id": "9124949d",
   "metadata": {},
   "source": [
    "### Q8. What is type casting?"
   ]
  },
  {
   "cell_type": "code",
   "execution_count": 43,
   "id": "0e639ca7",
   "metadata": {},
   "outputs": [
    {
     "name": "stdout",
     "output_type": "stream",
     "text": [
      "data type of int_var :  <class 'int'>\n",
      "data type of float_var :  <class 'float'>\n"
     ]
    }
   ],
   "source": [
    "#Type casting is about converting data type of a variable into another data type as required.\n",
    "#Example:\n",
    "\n",
    "int_var = 200\n",
    "float_var = float(int_var)\n",
    "print(\"data type of int_var : \", type(int_var))\n",
    "print(\"data type of float_var : \", type(float_var))\n"
   ]
  },
  {
   "cell_type": "markdown",
   "id": "1e9548c5",
   "metadata": {},
   "source": [
    "<br>"
   ]
  },
  {
   "cell_type": "markdown",
   "id": "fbfa751f",
   "metadata": {},
   "source": [
    "### Q9. Can we take more than one input from the user using single input() function? If yes, how? If no, why?"
   ]
  },
  {
   "cell_type": "code",
   "execution_count": 44,
   "id": "438124df",
   "metadata": {},
   "outputs": [
    {
     "name": "stdout",
     "output_type": "stream",
     "text": [
      "Enter two numbers: 12 34\n",
      "num1 is 12\n",
      "num2 is 34\n"
     ]
    }
   ],
   "source": [
    "# Using split() function, we can take multiple inputs\n",
    "\n",
    "num1, num2 = input(\"Enter two numbers: \").split()\n",
    "print(f\"num1 is {num1}\")\n",
    "print(f\"num2 is {num2}\")"
   ]
  },
  {
   "cell_type": "markdown",
   "id": "378ac0ed",
   "metadata": {},
   "source": [
    "<br>"
   ]
  },
  {
   "cell_type": "markdown",
   "id": "f2526176",
   "metadata": {},
   "source": [
    "### Q10. What are keywords?"
   ]
  },
  {
   "cell_type": "markdown",
   "id": "5061a801",
   "metadata": {},
   "source": [
    "Keywords are reserved words that have some meaning and are meant for specific purpose and can be used for only that purpose."
   ]
  },
  {
   "cell_type": "markdown",
   "id": "4c77b22a",
   "metadata": {},
   "source": [
    "<br>"
   ]
  },
  {
   "cell_type": "markdown",
   "id": "d010111d",
   "metadata": {},
   "source": [
    "### Q11. Can we use keywords as a variable? Support your answer with reason."
   ]
  },
  {
   "cell_type": "markdown",
   "id": "1907158d",
   "metadata": {},
   "source": [
    "Keywords can not be used for naming variables as keywords are meant for specific purpose.\n"
   ]
  },
  {
   "cell_type": "markdown",
   "id": "b49ba704",
   "metadata": {},
   "source": [
    "<br>"
   ]
  },
  {
   "cell_type": "markdown",
   "id": "327f6922",
   "metadata": {},
   "source": [
    "### Q12. What is indentation? What's the use of indentaion in Python?"
   ]
  },
  {
   "cell_type": "markdown",
   "id": "02634839",
   "metadata": {},
   "source": [
    "Indentation is nothing but giving a whitspace at starting line of the code.\n",
    "Generally, in other programming languages,  it is meant for readability.\n",
    "But in python, indentation is mandatory to <b>specify a block of code<b>."
   ]
  },
  {
   "cell_type": "markdown",
   "id": "2010259a",
   "metadata": {},
   "source": [
    "<br>"
   ]
  },
  {
   "cell_type": "markdown",
   "id": "2a44bfac",
   "metadata": {},
   "source": [
    "### Q13. How can we throw some output in Python?"
   ]
  },
  {
   "cell_type": "code",
   "execution_count": 45,
   "id": "10766d0f",
   "metadata": {},
   "outputs": [
    {
     "name": "stdout",
     "output_type": "stream",
     "text": [
      "something\n"
     ]
    }
   ],
   "source": [
    "# We can output something in python using print() statement\n",
    "\n",
    "print(\"something\")"
   ]
  },
  {
   "cell_type": "markdown",
   "id": "5c914244",
   "metadata": {},
   "source": [
    "<br>"
   ]
  },
  {
   "cell_type": "markdown",
   "id": "d1c4e5e8",
   "metadata": {},
   "source": [
    "### Q14. What are operators in Python?"
   ]
  },
  {
   "cell_type": "markdown",
   "id": "2220e346",
   "metadata": {},
   "source": [
    "Operators in python are used to perform operations on variables and values.\n",
    "There are different opeartors:\n",
    "1. mathematical operators(+, -, *, /, //, %, **)\n",
    "2. comparision operators(>, <, >=, <=, ==, !=)\n",
    "3. assignment operator(=)\n",
    "4. logical operators(and, or, not)\n",
    "etc."
   ]
  },
  {
   "cell_type": "markdown",
   "id": "1ab86d73",
   "metadata": {},
   "source": [
    "<br>"
   ]
  },
  {
   "cell_type": "markdown",
   "id": "de4650c8",
   "metadata": {},
   "source": [
    "### Q15. What is difference between / and // operators?"
   ]
  },
  {
   "cell_type": "code",
   "execution_count": 46,
   "id": "b88e5149",
   "metadata": {},
   "outputs": [
    {
     "name": "stdout",
     "output_type": "stream",
     "text": [
      "float divison: 3.5\n",
      "integer division: 3\n"
     ]
    }
   ],
   "source": [
    "# / is used for float division and // is used for integer division\n",
    "\n",
    "num1 = 7\n",
    "num2 = 2\n",
    "print(f\"float divison: {num1/num2}\" )\n",
    "print(f\"integer division: {num1//num2}\")\n"
   ]
  },
  {
   "cell_type": "markdown",
   "id": "8206cf79",
   "metadata": {},
   "source": [
    "<br>"
   ]
  },
  {
   "cell_type": "markdown",
   "id": "79dd927c",
   "metadata": {},
   "source": [
    "### Q16. Write a code that gives following as an output.\n",
    "```\n",
    "iNeuroniNeuroniNeuroniNeuron\n",
    "```"
   ]
  },
  {
   "cell_type": "code",
   "execution_count": 48,
   "id": "71e4581d",
   "metadata": {},
   "outputs": [
    {
     "name": "stdout",
     "output_type": "stream",
     "text": [
      "iNeuroniNeuroniNeuroniNeuron"
     ]
    }
   ],
   "source": [
    "for loop in range(4):\n",
    "    print(\"iNeuron\", end = '')"
   ]
  },
  {
   "cell_type": "markdown",
   "id": "5c9b6101",
   "metadata": {},
   "source": [
    "<br>"
   ]
  },
  {
   "cell_type": "markdown",
   "id": "d224a58b",
   "metadata": {},
   "source": [
    "### Q17. Write a code to take a number as an input from the user and check if the number is odd or even."
   ]
  },
  {
   "cell_type": "code",
   "execution_count": 49,
   "id": "a6df67b2",
   "metadata": {},
   "outputs": [
    {
     "name": "stdout",
     "output_type": "stream",
     "text": [
      "Enter a number to check if it's odd or even: 45\n",
      "45 is an Odd number\n"
     ]
    }
   ],
   "source": [
    "number = int(input(\"Enter a number to check if it's odd or even: \"))\n",
    "print(f\"{number} is an Even number\") if number%2==0 else print(f\"{number} is an Odd number\")"
   ]
  },
  {
   "cell_type": "markdown",
   "id": "800aee8f",
   "metadata": {},
   "source": [
    "<br>"
   ]
  },
  {
   "cell_type": "markdown",
   "id": "7c5da04f",
   "metadata": {},
   "source": [
    "### Q18. What are boolean operator?"
   ]
  },
  {
   "cell_type": "code",
   "execution_count": 50,
   "id": "5a53297d",
   "metadata": {},
   "outputs": [
    {
     "name": "stdout",
     "output_type": "stream",
     "text": [
      "Any one condition needs to be satisfied here\n"
     ]
    }
   ],
   "source": [
    "# Boolean opeartors are \"or\", \"not\", \"and\". \n",
    "# They are used to finally get True or False value and\n",
    "# used in conditional or looping statements to get execution of particular code based on conditions.\n",
    "\n",
    "num1 = 1\n",
    "num2 = 2\n",
    "if num1==1 and num2==1:\n",
    "    print(\"Both conditions need to be satisfied here\")\n",
    "if num1==1 or num2==1:\n",
    "    print(\"Any one condition needs to be satisfied here\")\n"
   ]
  },
  {
   "cell_type": "markdown",
   "id": "49179f2b",
   "metadata": {},
   "source": [
    "<br>"
   ]
  },
  {
   "cell_type": "markdown",
   "id": "16108718",
   "metadata": {},
   "source": [
    "### Q19. What will the output of the following?\n",
    "```\n",
    "1 or 0\n",
    "\n",
    "0 and 0\n",
    "\n",
    "True and False and True\n",
    "\n",
    "1 or 0 or 0\n",
    "```"
   ]
  },
  {
   "cell_type": "markdown",
   "id": "aa9e4c6b",
   "metadata": {},
   "source": [
    "1 <br>\n",
    "0 <br>\n",
    "False <br>\n",
    "1 <br>"
   ]
  },
  {
   "cell_type": "markdown",
   "id": "aac7b7c6",
   "metadata": {},
   "source": [
    "<br>"
   ]
  },
  {
   "cell_type": "markdown",
   "id": "1918e9fd",
   "metadata": {},
   "source": [
    "### Q20. What are conditional statements in Python?"
   ]
  },
  {
   "cell_type": "markdown",
   "id": "512ab2c7",
   "metadata": {},
   "source": [
    "Conditionl statements in python represent having a condition and by satisfying the condition, code under that condition will get executed\n",
    "\n",
    "There are 3 conditional statements in python: if, if-else, if-elif-else.\n"
   ]
  },
  {
   "cell_type": "markdown",
   "id": "47611815",
   "metadata": {},
   "source": [
    "<br>"
   ]
  },
  {
   "cell_type": "markdown",
   "id": "75c0103c",
   "metadata": {},
   "source": [
    "### Q21. What is use of 'if', 'elif' and 'else' keywords?"
   ]
  },
  {
   "cell_type": "code",
   "execution_count": 51,
   "id": "5cf42af7",
   "metadata": {},
   "outputs": [
    {
     "name": "stdout",
     "output_type": "stream",
     "text": [
      "Number is 3\n"
     ]
    }
   ],
   "source": [
    "#  'if', 'elif' and 'else' keywords are used in conditional statements \n",
    "# if statement is used to execute code block under it if condition is true.\n",
    "# elif statement is used after if statement, in case if statement is false, then it goes for the lif statement.\n",
    "# else statement's code block get executed when above if and elif statements conditions are false\n",
    "\n",
    "num = 3\n",
    "if num==1:\n",
    "    print(\"Number is 1\")\n",
    "elif num==2:\n",
    "    print(\"Number is 2\")\n",
    "elif num==3:\n",
    "    print(\"Number is 3\")\n",
    "else:\n",
    "    print(\"other number\")\n"
   ]
  },
  {
   "cell_type": "markdown",
   "id": "8beed037",
   "metadata": {},
   "source": [
    "<br>"
   ]
  },
  {
   "cell_type": "markdown",
   "id": "378eff0e",
   "metadata": {},
   "source": [
    "### Q22. Write a code to take the age of person as an input and if age >= 18 display \"I can vote\". If age is < 18 display \"I can't vote\"."
   ]
  },
  {
   "cell_type": "code",
   "execution_count": 52,
   "id": "d6a95058",
   "metadata": {},
   "outputs": [
    {
     "name": "stdout",
     "output_type": "stream",
     "text": [
      "Enter your age to know if you can vote or not: 45\n",
      "I can vote\n"
     ]
    }
   ],
   "source": [
    "age = int(input(\"Enter your age to know if you can vote or not: \"))\n",
    "if age >= 18:\n",
    "    print(\"I can vote\")\n",
    "elif age < 18 and age > 0:\n",
    "    print(\"I can't vote\")\n",
    "else:\n",
    "    print(\"Age can't be negative\")"
   ]
  },
  {
   "cell_type": "markdown",
   "id": "43e66e46",
   "metadata": {},
   "source": [
    "<br>"
   ]
  },
  {
   "cell_type": "markdown",
   "id": "9031a354",
   "metadata": {},
   "source": [
    "### Q23. Write a code that displays the sum of all the even numbers from the given list.\n",
    "```\n",
    "numbers = [12, 75, 150, 180, 145, 525, 50]\n",
    "```"
   ]
  },
  {
   "cell_type": "code",
   "execution_count": 53,
   "id": "6f1a1b9d",
   "metadata": {},
   "outputs": [
    {
     "name": "stdout",
     "output_type": "stream",
     "text": [
      "1137\n"
     ]
    }
   ],
   "source": [
    "numbers = [12, 75, 150, 180, 145, 525, 50]\n",
    "\n",
    "# print(sum(numbers))\n",
    "# or\n",
    "\n",
    "sum = 0\n",
    "for each_num in numbers:\n",
    "    sum += each_num\n",
    "print(sum)\n",
    "    "
   ]
  },
  {
   "cell_type": "markdown",
   "id": "94d9b4ee",
   "metadata": {},
   "source": [
    "<br>"
   ]
  },
  {
   "cell_type": "markdown",
   "id": "e9293805",
   "metadata": {},
   "source": [
    "### Q24. Write a code to take 3 numbers as an input from the user and display the greatest no as output."
   ]
  },
  {
   "cell_type": "code",
   "execution_count": 54,
   "id": "6ac14b78",
   "metadata": {},
   "outputs": [
    {
     "name": "stdout",
     "output_type": "stream",
     "text": [
      "Enter three numbers: 1 2 3\n",
      "3 is the greatest number\n"
     ]
    }
   ],
   "source": [
    "num1, num2, num3 = input(\"Enter three numbers: \" ).split()\n",
    "\n",
    "# print(max(num1, num2, num3)) \n",
    "# or \n",
    "\n",
    "if num1 > num2 and num1 > num3:\n",
    "    print(f\"{num1} is the greatest number\")\n",
    "elif num2>num1 and num2>num3:\n",
    "    print(f\"{num2} is the greatest number\")\n",
    "else:\n",
    "    print(f\"{num3} is the greatest number\")\n"
   ]
  },
  {
   "cell_type": "markdown",
   "id": "af0017b1",
   "metadata": {},
   "source": [
    "<br>"
   ]
  },
  {
   "cell_type": "markdown",
   "id": "b8ea83e8",
   "metadata": {},
   "source": [
    "### Q25. Write a program to display only those numbers from a list that satisfy the following conditions\n",
    "\n",
    "- The number must be divisible by five\n",
    "\n",
    "- If the number is greater than 150, then skip it and move to the next number\n",
    "\n",
    "- If the number is greater than 500, then stop the loop\n",
    "```\n",
    "numbers = [12, 75, 150, 180, 145, 525, 50]"
   ]
  },
  {
   "cell_type": "code",
   "execution_count": 55,
   "id": "bb5b35d3",
   "metadata": {},
   "outputs": [
    {
     "name": "stdout",
     "output_type": "stream",
     "text": [
      "[75, 150, 145]\n"
     ]
    }
   ],
   "source": [
    "numbers = [12, 75, 150, 180, 145, 525, 50]\n",
    "new_list = []\n",
    "for each_num in numbers:\n",
    "    if each_num > 500:\n",
    "        break\n",
    "    elif each_num > 150:\n",
    "        continue\n",
    "    elif each_num%5 == 0:\n",
    "        new_list.append(each_num)\n",
    "\n",
    "print(new_list)"
   ]
  },
  {
   "cell_type": "markdown",
   "id": "848c0c6f",
   "metadata": {},
   "source": [
    "<br>"
   ]
  },
  {
   "cell_type": "markdown",
   "id": "c4dccb35",
   "metadata": {},
   "source": [
    "### Q26. What is a string? How can we declare string in Python?"
   ]
  },
  {
   "cell_type": "code",
   "execution_count": 1,
   "id": "922a635d",
   "metadata": {},
   "outputs": [
    {
     "name": "stdout",
     "output_type": "stream",
     "text": [
      "Sam CSE CSE101\n"
     ]
    }
   ],
   "source": [
    "# Strings are used to store unicode characters.\n",
    "# They are declared by assigning them to a variable in single or double quotation marks\n",
    "\n",
    "name = \"Sam\"\n",
    "department = \"CSE\"\n",
    "course = 'CSE101'\n",
    "print(name, department, course)"
   ]
  },
  {
   "cell_type": "markdown",
   "id": "c0f98183",
   "metadata": {},
   "source": [
    "<br>"
   ]
  },
  {
   "cell_type": "markdown",
   "id": "b803a1e5",
   "metadata": {},
   "source": [
    "### Q27. How can we access the string using its index?"
   ]
  },
  {
   "cell_type": "code",
   "execution_count": 5,
   "id": "0488514b",
   "metadata": {},
   "outputs": [
    {
     "name": "stdout",
     "output_type": "stream",
     "text": [
      "h\n",
      "This is good to know!\n",
      "od to\n",
      "!wonk ot doog si sihT\n"
     ]
    }
   ],
   "source": [
    "# A string can be accessed using its index by keeping it square brackets. Index starts from 0.\n",
    "# -1 represents last character from the string\n",
    "# str1[start_index : end_index : step], start_index is included, end_index is excluded, step represents how many indexes to step over\n",
    "\n",
    "str1 = \"This is good to know!\"\n",
    "print(str1[1]) # prints character at index 1\n",
    "print(str1[:]) # prints entire string\n",
    "print(str1[10:15]) # prints string from index 10 to index 15\n",
    "print(str1[::-1]) # prints string in reverse order"
   ]
  },
  {
   "cell_type": "markdown",
   "id": "17b43901",
   "metadata": {},
   "source": [
    "<br>"
   ]
  },
  {
   "cell_type": "markdown",
   "id": "d8fe90d2",
   "metadata": {},
   "source": [
    "### Q28. Write a code to get the desired output of the following\n",
    "```\n",
    "string = \"Big Data iNeuron\"\n",
    "desired_output = \"iNeuron\"\n",
    "```"
   ]
  },
  {
   "cell_type": "code",
   "execution_count": 12,
   "id": "0f728801",
   "metadata": {},
   "outputs": [
    {
     "name": "stdout",
     "output_type": "stream",
     "text": [
      "iNeuron\n"
     ]
    }
   ],
   "source": [
    "string = \"Big Data iNeuron\"\n",
    "# print(string[-7:])\n",
    "# or \n",
    "print(string[9:])"
   ]
  },
  {
   "cell_type": "markdown",
   "id": "026a669c",
   "metadata": {},
   "source": [
    "<br>"
   ]
  },
  {
   "cell_type": "markdown",
   "id": "58a86eb6",
   "metadata": {},
   "source": [
    "### Q29. Write a code to get the desired output of the following\n",
    "```\n",
    "string = \"Big Data iNeuron\"\n",
    "desired_output = \"norueNi\"\n",
    "```"
   ]
  },
  {
   "cell_type": "code",
   "execution_count": 15,
   "id": "92045772",
   "metadata": {},
   "outputs": [
    {
     "name": "stdout",
     "output_type": "stream",
     "text": [
      "norueNi\n"
     ]
    }
   ],
   "source": [
    "string = \"Big Data iNeuron\"\n",
    "sub_string = string[9:]\n",
    "print(sub_string[::-1])"
   ]
  },
  {
   "cell_type": "markdown",
   "id": "056e92d2",
   "metadata": {},
   "source": [
    "<br>"
   ]
  },
  {
   "cell_type": "markdown",
   "id": "ae4d6f05",
   "metadata": {},
   "source": [
    "### Q30. Reverse the string given in the above question."
   ]
  },
  {
   "cell_type": "code",
   "execution_count": 17,
   "id": "6d90dcf3",
   "metadata": {},
   "outputs": [
    {
     "name": "stdout",
     "output_type": "stream",
     "text": [
      "norueNi ataD giB\n"
     ]
    }
   ],
   "source": [
    "string = \"Big Data iNeuron\"\n",
    "print(string[::-1])"
   ]
  },
  {
   "cell_type": "markdown",
   "id": "bc943dde",
   "metadata": {},
   "source": [
    "<br>"
   ]
  },
  {
   "cell_type": "markdown",
   "id": "3988ff10",
   "metadata": {},
   "source": [
    "### Q31. How can you delete entire string at once?"
   ]
  },
  {
   "cell_type": "code",
   "execution_count": 4,
   "id": "d95b2660",
   "metadata": {},
   "outputs": [
    {
     "name": "stdout",
     "output_type": "stream",
     "text": [
      "Big Data iNeuron\n",
      "\n"
     ]
    }
   ],
   "source": [
    "string = \"Big Data iNeuron\"\n",
    "print(string)\n",
    "# del string\n",
    "# or \n",
    "string = \"\"\n",
    "print(string)"
   ]
  },
  {
   "cell_type": "markdown",
   "id": "a3a8348d",
   "metadata": {},
   "source": [
    "<br>"
   ]
  },
  {
   "cell_type": "markdown",
   "id": "e8d9f51a",
   "metadata": {},
   "source": [
    "### Q32. What is escape sequence?"
   ]
  },
  {
   "cell_type": "code",
   "execution_count": 6,
   "id": "75579c30",
   "metadata": {},
   "outputs": [
    {
     "name": "stdout",
     "output_type": "stream",
     "text": [
      "I am naresh's friend\n",
      "i am good. \n",
      "This is something new\n"
     ]
    }
   ],
   "source": [
    "# An escape character('\\') is used to avoid getting errors when illegal characters are used in a string\n",
    "print('I am naresh\\'s friend')\n",
    "print(\"i am good. \\nThis is something new\")"
   ]
  },
  {
   "cell_type": "markdown",
   "id": "242d54b1",
   "metadata": {},
   "source": [
    "<br>"
   ]
  },
  {
   "cell_type": "markdown",
   "id": "3273f306",
   "metadata": {},
   "source": [
    "### Q33. How can you print the below string?\n",
    "```\n",
    "'iNeuron's Big Data Course'\n",
    "```"
   ]
  },
  {
   "cell_type": "code",
   "execution_count": 8,
   "id": "92e9a649",
   "metadata": {},
   "outputs": [
    {
     "name": "stdout",
     "output_type": "stream",
     "text": [
      "iNeuron's Big Data Course\n"
     ]
    }
   ],
   "source": [
    "print('iNeuron\\'s Big Data Course')"
   ]
  },
  {
   "cell_type": "markdown",
   "id": "0921f492",
   "metadata": {},
   "source": [
    "<br>"
   ]
  },
  {
   "cell_type": "markdown",
   "id": "efe13634",
   "metadata": {},
   "source": [
    "### Q34. What is a list in Python?"
   ]
  },
  {
   "cell_type": "code",
   "execution_count": 14,
   "id": "53ef1d1b",
   "metadata": {},
   "outputs": [],
   "source": [
    "# List is a built-in data type in python. It is used to store multiple values in a single variable."
   ]
  },
  {
   "cell_type": "markdown",
   "id": "2d63ca43",
   "metadata": {},
   "source": [
    "<br>"
   ]
  },
  {
   "cell_type": "markdown",
   "id": "4bb60f4b",
   "metadata": {},
   "source": [
    "### Q35. How can you create a list in Python?"
   ]
  },
  {
   "cell_type": "code",
   "execution_count": 15,
   "id": "72f95cdd",
   "metadata": {},
   "outputs": [
    {
     "name": "stdout",
     "output_type": "stream",
     "text": [
      "[1, 2, 3, 'sam', 23.456, 'sjsdkfgs32']\n"
     ]
    }
   ],
   "source": [
    "# List is created by placing elements in a square bracket and separated by comma\n",
    "\n",
    "list1 = [1,2,3,\"sam\",23.456,\"sjsdkfgs32\"]\n",
    "print(list1)"
   ]
  },
  {
   "cell_type": "markdown",
   "id": "33a6fe20",
   "metadata": {},
   "source": [
    "<br>"
   ]
  },
  {
   "cell_type": "markdown",
   "id": "4a5c8018",
   "metadata": {},
   "source": [
    "### Q36. How can we access the elements in a list?"
   ]
  },
  {
   "cell_type": "code",
   "execution_count": 18,
   "id": "43d6666d",
   "metadata": {},
   "outputs": [
    {
     "name": "stdout",
     "output_type": "stream",
     "text": [
      "3\n",
      "[1, 2, 3, 'sam']\n"
     ]
    }
   ],
   "source": [
    "# Elements in a list can be accessed by it's index number. Index starts from 0\n",
    "\n",
    "list1 = [1,2,3,\"sam\",23.456,\"sjsdkfgs32\"]\n",
    "print(list1[2])\n",
    "print(list1[:4])"
   ]
  },
  {
   "cell_type": "markdown",
   "id": "0f0f84c9",
   "metadata": {},
   "source": [
    "<br>"
   ]
  },
  {
   "cell_type": "markdown",
   "id": "df2ce0da",
   "metadata": {},
   "source": [
    "### Q37. Write a code to access the word \"iNeuron\" from the given list.\n",
    "```\n",
    "lst = [1,2,3,\"Hi\",[45,54, \"iNeuron\"], \"Big Data\"]\n",
    "``` "
   ]
  },
  {
   "cell_type": "code",
   "execution_count": 20,
   "id": "b757dfb4",
   "metadata": {},
   "outputs": [
    {
     "name": "stdout",
     "output_type": "stream",
     "text": [
      "iNeuron\n"
     ]
    }
   ],
   "source": [
    "lst = [1,2,3,\"Hi\",[45,54, \"iNeuron\"], \"Big Data\"]\n",
    "print(lst[4][2])"
   ]
  },
  {
   "cell_type": "markdown",
   "id": "3f355044",
   "metadata": {},
   "source": [
    "<br>"
   ]
  },
  {
   "cell_type": "markdown",
   "id": "042bf2c8",
   "metadata": {},
   "source": [
    "### Q38. Take a list as an input from the user and find the length of the list."
   ]
  },
  {
   "cell_type": "code",
   "execution_count": 23,
   "id": "9dd4e089",
   "metadata": {},
   "outputs": [
    {
     "name": "stdout",
     "output_type": "stream",
     "text": [
      "Enter a list of numbers and separate each element using comma : 1,2,3,4 ,5,4,5,4\n",
      "Length of the list is 8\n"
     ]
    }
   ],
   "source": [
    "user = input(\"Enter a list of numbers and separate each element using comma : \").split(',')\n",
    "print(f\"Length of the list is {len(user)}\")"
   ]
  },
  {
   "cell_type": "markdown",
   "id": "1bca66ae",
   "metadata": {},
   "source": [
    "<br>"
   ]
  },
  {
   "cell_type": "markdown",
   "id": "247a5fd1",
   "metadata": {},
   "source": [
    "### Q39. Add the word \"Big\" in the 3rd index of the given list.\n",
    "```\n",
    "lst = [\"Welcome\", \"to\", \"Data\", \"course\"]\n",
    "```"
   ]
  },
  {
   "cell_type": "code",
   "execution_count": 26,
   "id": "39bb7e46",
   "metadata": {},
   "outputs": [
    {
     "name": "stdout",
     "output_type": "stream",
     "text": [
      "['Welcome', 'to', 'Big', 'Data', 'course']\n"
     ]
    }
   ],
   "source": [
    "lst = [\"Welcome\", \"to\", \"Data\", \"course\"]\n",
    "lst.insert(2, \"Big\")\n",
    "print(lst)"
   ]
  },
  {
   "cell_type": "markdown",
   "id": "69f99af8",
   "metadata": {},
   "source": [
    "<br>"
   ]
  },
  {
   "cell_type": "markdown",
   "id": "a46c6e8a",
   "metadata": {},
   "source": [
    "### Q40. What is a tuple? How is it different from list?"
   ]
  },
  {
   "cell_type": "code",
   "execution_count": 31,
   "id": "e7141da2",
   "metadata": {},
   "outputs": [
    {
     "name": "stdout",
     "output_type": "stream",
     "text": [
      "('Welcome', 'to', 'Data', 'course')\n"
     ]
    }
   ],
   "source": [
    "# Tuple is also used to store multiple values in a single variable.\n",
    "# In tuple, elements are unchangeable( immutable)\n",
    "# Tuple is represented using round brackets and elements are separated by comma.\n",
    "\n",
    "tuple1 = (\"Welcome\", \"to\", \"Data\", \"course\")\n",
    "print(tuple1)\n",
    "# tuple[1]=\"sam\" is not allowed"
   ]
  },
  {
   "cell_type": "markdown",
   "id": "51bb71eb",
   "metadata": {},
   "source": [
    "<br>"
   ]
  },
  {
   "cell_type": "markdown",
   "id": "5075d62e",
   "metadata": {},
   "source": [
    "### Q41. How can you create a tuple in Python?"
   ]
  },
  {
   "cell_type": "code",
   "execution_count": 32,
   "id": "79b99822",
   "metadata": {},
   "outputs": [
    {
     "name": "stdout",
     "output_type": "stream",
     "text": [
      "('Welcome', 'to', 'Data', 'course')\n"
     ]
    }
   ],
   "source": [
    "tuple1 = (\"Welcome\", \"to\", \"Data\", \"course\")\n",
    "print(tuple1)"
   ]
  },
  {
   "cell_type": "markdown",
   "id": "1024c683",
   "metadata": {},
   "source": [
    "<br>"
   ]
  },
  {
   "cell_type": "markdown",
   "id": "3481e09a",
   "metadata": {},
   "source": [
    "### Q42. Create a tuple and try to add your name in the tuple. Are you able to do it? Support your answer with reason."
   ]
  },
  {
   "cell_type": "code",
   "execution_count": 35,
   "id": "64958c21",
   "metadata": {},
   "outputs": [
    {
     "ename": "TypeError",
     "evalue": "'tuple' object does not support item assignment",
     "output_type": "error",
     "traceback": [
      "\u001b[1;31m---------------------------------------------------------------------------\u001b[0m",
      "\u001b[1;31mTypeError\u001b[0m                                 Traceback (most recent call last)",
      "Cell \u001b[1;32mIn [35], line 2\u001b[0m\n\u001b[0;32m      1\u001b[0m tuple2 \u001b[38;5;241m=\u001b[39m (\u001b[38;5;124m\"\u001b[39m\u001b[38;5;124msam\u001b[39m\u001b[38;5;124m\"\u001b[39m, \u001b[38;5;124m\"\u001b[39m\u001b[38;5;124msunny\u001b[39m\u001b[38;5;124m\"\u001b[39m)\n\u001b[1;32m----> 2\u001b[0m \u001b[43mtuple2\u001b[49m\u001b[43m[\u001b[49m\u001b[38;5;241;43m1\u001b[39;49m\u001b[43m]\u001b[49m\u001b[38;5;241m=\u001b[39m\u001b[38;5;124m\"\u001b[39m\u001b[38;5;124mswaroop\u001b[39m\u001b[38;5;124m\"\u001b[39m\n\u001b[0;32m      3\u001b[0m \u001b[38;5;66;03m# adding element to a tuple is not possible as elemnts in tuple are immutable\u001b[39;00m\n",
      "\u001b[1;31mTypeError\u001b[0m: 'tuple' object does not support item assignment"
     ]
    }
   ],
   "source": [
    "tuple2 = (\"sam\", \"sunny\")\n",
    "tuple2[1]=\"swaroop\"\n",
    "# adding element to a tuple is not possible as elemnts in tuple are immutable"
   ]
  },
  {
   "cell_type": "markdown",
   "id": "3180058c",
   "metadata": {},
   "source": [
    "<br>"
   ]
  },
  {
   "cell_type": "markdown",
   "id": "b5f4063d",
   "metadata": {},
   "source": [
    "### Q43. Can two tuple be appended. If yes, write a code for it. If not, why?"
   ]
  },
  {
   "cell_type": "code",
   "execution_count": 36,
   "id": "fe4286fa",
   "metadata": {},
   "outputs": [
    {
     "name": "stdout",
     "output_type": "stream",
     "text": [
      "('sam', 'sunny', 'tom', 'sandy', 'sachin')\n"
     ]
    }
   ],
   "source": [
    "tuple1 = (\"sam\", \"sunny\", \"tom\")\n",
    "tuple2 = (\"sandy\", \"sachin\")\n",
    "tuple3 = tuple1 + tuple2\n",
    "print(tuple3)"
   ]
  },
  {
   "cell_type": "markdown",
   "id": "89a42fb9",
   "metadata": {},
   "source": [
    "<br>"
   ]
  },
  {
   "cell_type": "markdown",
   "id": "32b27eb6",
   "metadata": {},
   "source": [
    "### Q44. Take a tuple as an input and print the count of elements in it."
   ]
  },
  {
   "cell_type": "code",
   "execution_count": 41,
   "id": "75674f86",
   "metadata": {},
   "outputs": [
    {
     "name": "stdout",
     "output_type": "stream",
     "text": [
      "Enter a list of numbers and separate each element using comma : 1,2,3,4,sam,345\n",
      "('1', '2', '3', '4', 'sam', '345')\n",
      "Length of the tuple is 6\n"
     ]
    }
   ],
   "source": [
    "user = tuple(input(\"Enter a list of numbers and separate each element using comma : \").split(','))\n",
    "print(user)\n",
    "print(f\"Length of the tuple is {len(user)}\")"
   ]
  },
  {
   "cell_type": "markdown",
   "id": "9dfc00f1",
   "metadata": {},
   "source": [
    "<br>"
   ]
  },
  {
   "cell_type": "markdown",
   "id": "b9b1ab5f",
   "metadata": {},
   "source": [
    "### Q45. What are sets in Python?"
   ]
  },
  {
   "cell_type": "code",
   "execution_count": null,
   "id": "0131c692",
   "metadata": {},
   "outputs": [],
   "source": [
    "# set is a built-in data type in python. It used to store multiple items in a variable. Sets are unordered and immutable."
   ]
  },
  {
   "cell_type": "markdown",
   "id": "04d82cff",
   "metadata": {},
   "source": [
    "<br>"
   ]
  },
  {
   "cell_type": "markdown",
   "id": "08c213ff",
   "metadata": {},
   "source": [
    "### Q46. How can you create a set?"
   ]
  },
  {
   "cell_type": "code",
   "execution_count": 1,
   "id": "535ea7b4",
   "metadata": {},
   "outputs": [],
   "source": [
    "# A set can be created by keeping elements in curly brackets separated by comma"
   ]
  },
  {
   "cell_type": "markdown",
   "id": "eafbe99c",
   "metadata": {},
   "source": [
    "<br>"
   ]
  },
  {
   "cell_type": "markdown",
   "id": "2471e7c6",
   "metadata": {},
   "source": [
    "### Q47. Create a set and add \"iNeuron\" in your set."
   ]
  },
  {
   "cell_type": "code",
   "execution_count": 9,
   "id": "6db3636d",
   "metadata": {},
   "outputs": [
    {
     "name": "stdout",
     "output_type": "stream",
     "text": [
      "{'iNeuron'}\n"
     ]
    }
   ],
   "source": [
    "new_set = {\"iNeuron\"}\n",
    "print(new_set)"
   ]
  },
  {
   "cell_type": "markdown",
   "id": "7cb3d5c1",
   "metadata": {},
   "source": [
    "<br>"
   ]
  },
  {
   "cell_type": "markdown",
   "id": "c1b44c04",
   "metadata": {},
   "source": [
    "### Q48. Try to add multiple values using add() function."
   ]
  },
  {
   "cell_type": "code",
   "execution_count": 10,
   "id": "c326f196",
   "metadata": {},
   "outputs": [
    {
     "name": "stdout",
     "output_type": "stream",
     "text": [
      "{'sam', 'sunny', 'iNeuron', 'sally'}\n"
     ]
    }
   ],
   "source": [
    "new_set.add(\"sam\")\n",
    "new_set.add(\"sunny\")\n",
    "new_set.add(\"sally\")\n",
    "print(new_set)"
   ]
  },
  {
   "cell_type": "markdown",
   "id": "cb3f25cf",
   "metadata": {},
   "source": [
    "<br>"
   ]
  },
  {
   "cell_type": "markdown",
   "id": "625571b7",
   "metadata": {},
   "source": [
    "### Q49. How is update() different from add()?"
   ]
  },
  {
   "cell_type": "code",
   "execution_count": 15,
   "id": "979725a1",
   "metadata": {},
   "outputs": [
    {
     "name": "stdout",
     "output_type": "stream",
     "text": [
      "{'f', 'c', 'd', 'b', 'a', 'e'}\n",
      "{'f', 'c', 'd', 'b', 'a', 'j', 'e'}\n",
      "{'g', 'c', 'b', 'i', 'e', 'f', 'd', 'a', 'j', 'h'}\n"
     ]
    }
   ],
   "source": [
    "# update() will update current set by adding another set into it \n",
    "# add() will just add element into it\n",
    "\n",
    "set1 = {\"a\", \"b\", \"c\"}\n",
    "set2 = {\"d\", \"e\", \"f\"}\n",
    "set3 = {\"g\", \"h\", \"i\"}\n",
    "set1.update(set2)\n",
    "print(set1)\n",
    "set1.add(\"j\")\n",
    "print(set1)\n",
    "set1.update(set3)\n",
    "print(set1)"
   ]
  },
  {
   "cell_type": "markdown",
   "id": "496ef1e2",
   "metadata": {},
   "source": [
    "<br>"
   ]
  },
  {
   "cell_type": "markdown",
   "id": "70ebc6c4",
   "metadata": {},
   "source": [
    "### Q50. What is clear() in sets?"
   ]
  },
  {
   "cell_type": "code",
   "execution_count": 18,
   "id": "63d63a5f",
   "metadata": {},
   "outputs": [
    {
     "name": "stdout",
     "output_type": "stream",
     "text": [
      "set()\n"
     ]
    }
   ],
   "source": [
    "# clear removes all elements from the set\n",
    "\n",
    "set1.clear()\n",
    "print(set1)"
   ]
  },
  {
   "cell_type": "markdown",
   "id": "a2620b24",
   "metadata": {},
   "source": [
    "<br>"
   ]
  },
  {
   "cell_type": "markdown",
   "id": "2b163d8b",
   "metadata": {},
   "source": [
    "### Q51. What is frozen set?"
   ]
  },
  {
   "cell_type": "code",
   "execution_count": 25,
   "id": "a406bdea",
   "metadata": {},
   "outputs": [
    {
     "name": "stdout",
     "output_type": "stream",
     "text": [
      "frozenset({1, 2, 3, 4})\n",
      "frozenset({'sam', 'sunny', 'tom'})\n",
      "frozenset({'b', 'a'})\n"
     ]
    }
   ],
   "source": [
    "# frozen set creates a immutable  set object  from an iterable.\n",
    "list1 = [1,2,3,4]\n",
    "tuple1 = (\"sam\", \"sunny\", \"tom\")\n",
    "dict1= {\"a\":\"soory\",\n",
    "        \"b\":\"sammy\"  \n",
    "       }\n",
    "fs1 = frozenset(list1)\n",
    "print(fs1)\n",
    "fs2 = frozenset(tuple1)\n",
    "print(fs2)\n",
    "fs3 = frozenset(dict1)\n",
    "print(fs3)"
   ]
  },
  {
   "cell_type": "markdown",
   "id": "28d50a3a",
   "metadata": {},
   "source": [
    "<br>"
   ]
  },
  {
   "cell_type": "markdown",
   "id": "23bb1db2",
   "metadata": {},
   "source": [
    "### Q52. How is frozen set different from set?"
   ]
  },
  {
   "cell_type": "code",
   "execution_count": 26,
   "id": "a8f14bf5",
   "metadata": {},
   "outputs": [],
   "source": [
    "# frozen sets are immutable version of set objects in python whereas set elements can be modified."
   ]
  },
  {
   "cell_type": "markdown",
   "id": "7f5eca31",
   "metadata": {},
   "source": [
    "<br>"
   ]
  },
  {
   "cell_type": "markdown",
   "id": "2a84a448",
   "metadata": {},
   "source": [
    "### Q53. What is union() in sets? Explain via code."
   ]
  },
  {
   "cell_type": "code",
   "execution_count": 31,
   "id": "5a976ce3",
   "metadata": {},
   "outputs": [
    {
     "name": "stdout",
     "output_type": "stream",
     "text": [
      "{'f', 'c', 'd', 'b', 'a', 'e'}\n",
      "{'g', 'i', 'e', 'f', 'd', 'h'}\n"
     ]
    }
   ],
   "source": [
    "# union() will return a set containing all items from both sets but duplicate items are not included.\n",
    "\n",
    "set1 = {\"a\", \"b\", \"c\"}\n",
    "set2 = {\"d\", \"e\", \"f\"}\n",
    "set3 = {\"g\", \"h\", \"i\", \"f\", \"d\"}\n",
    "print(set1.union(set2))\n",
    "print(set2.union(set3))"
   ]
  },
  {
   "cell_type": "markdown",
   "id": "cb4f9af0",
   "metadata": {},
   "source": [
    "<br>"
   ]
  },
  {
   "cell_type": "markdown",
   "id": "2ec0407d",
   "metadata": {},
   "source": [
    "### Q54. What is intersection() in sets? Explain via code."
   ]
  },
  {
   "cell_type": "code",
   "execution_count": 36,
   "id": "1c5a5edf",
   "metadata": {},
   "outputs": [
    {
     "name": "stdout",
     "output_type": "stream",
     "text": [
      "{'g', 'd'}\n",
      "{'g', 'f', 'd'}\n",
      "{'g', 'd'}\n"
     ]
    }
   ],
   "source": [
    "# intersection() will return a set contain similar items in both(two or more) sets.\n",
    "\n",
    "set1 = {\"a\", \"b\", \"c\", \"d\", \"g\"}\n",
    "set2 = {\"d\", \"e\", \"f\", \"g\"}\n",
    "set3 = {\"g\", \"h\", \"i\", \"f\", \"d\", \"a\", \"c\"}\n",
    "print(set1.intersection(set2))\n",
    "print(set2.intersection(set3))\n",
    "print(set3.intersection(set1, set2))"
   ]
  },
  {
   "cell_type": "markdown",
   "id": "ac77496d",
   "metadata": {},
   "source": [
    "<br>"
   ]
  },
  {
   "cell_type": "markdown",
   "id": "277ec2f6",
   "metadata": {},
   "source": [
    "### Q55. What is dictionary ibn Python?"
   ]
  },
  {
   "cell_type": "code",
   "execution_count": null,
   "id": "dfadd197",
   "metadata": {},
   "outputs": [],
   "source": [
    "# dictionaries in pyhton are used to store data values in key:value pairs. They are ordered, don't allow duplicates."
   ]
  },
  {
   "cell_type": "markdown",
   "id": "ef77a99c",
   "metadata": {},
   "source": [
    "<br>"
   ]
  },
  {
   "cell_type": "markdown",
   "id": "4438939c",
   "metadata": {},
   "source": [
    " ### Q56. How is dictionary different from all other data structures."
   ]
  },
  {
   "cell_type": "code",
   "execution_count": 38,
   "id": "df2b34ca",
   "metadata": {},
   "outputs": [],
   "source": [
    "# dictionary store data values in key:vaule pairs in a map like structure whereas other data types hold single value as an element.\n",
    "# dictionaries in python have hashable object which contains the pointer to key object and value object."
   ]
  },
  {
   "cell_type": "markdown",
   "id": "1fe8f46c",
   "metadata": {},
   "source": [
    "<br>"
   ]
  },
  {
   "cell_type": "markdown",
   "id": "3a9b6b55",
   "metadata": {},
   "source": [
    "### Q57. How can we delare a dictionary in Python?"
   ]
  },
  {
   "cell_type": "code",
   "execution_count": 39,
   "id": "7c75f812",
   "metadata": {},
   "outputs": [
    {
     "name": "stdout",
     "output_type": "stream",
     "text": [
      "{'a': 'sam', 'b': 'sunny', 'c': 'sum'}\n"
     ]
    }
   ],
   "source": [
    "# Dictionaries are written in curly brcakets, have key : values separated by comma.\n",
    "\n",
    "dict1 = {\n",
    "        \"a\":\"sam\",\n",
    "        \"b\":\"sunny\",\n",
    "        \"c\":\"sum\"\n",
    "}\n",
    "print(dict1)"
   ]
  },
  {
   "cell_type": "markdown",
   "id": "a95590d7",
   "metadata": {},
   "source": [
    "<br>"
   ]
  },
  {
   "cell_type": "markdown",
   "id": "cc59a223",
   "metadata": {},
   "source": [
    "### Q58. What will the output of the following?\n",
    "```\n",
    "var = {}\n",
    "print(type(var))\n",
    "```"
   ]
  },
  {
   "cell_type": "code",
   "execution_count": 13,
   "id": "e030032e",
   "metadata": {},
   "outputs": [
    {
     "name": "stdout",
     "output_type": "stream",
     "text": [
      "<class 'dict'>\n"
     ]
    }
   ],
   "source": [
    "var = {}\n",
    "print(type(var))"
   ]
  },
  {
   "cell_type": "markdown",
   "id": "71b0f525",
   "metadata": {},
   "source": [
    "<br>"
   ]
  },
  {
   "cell_type": "markdown",
   "id": "aa33ce2d",
   "metadata": {},
   "source": [
    "### Q59. How can we add an element in a dictionary?"
   ]
  },
  {
   "cell_type": "code",
   "execution_count": 43,
   "id": "98cb5a9f",
   "metadata": {},
   "outputs": [
    {
     "name": "stdout",
     "output_type": "stream",
     "text": [
      "{'a': 'sam', 'b': 'sunny', 'c': 'sum'}\n",
      "{'a': 'sam', 'b': 'sunny', 'c': 'sum', 'd': 'something'}\n"
     ]
    }
   ],
   "source": [
    "# An element can be added to the dictionary by indexing a key and assigning a value.\n",
    "\n",
    "dict1 = {\n",
    "        \"a\":\"sam\",\n",
    "        \"b\":\"sunny\",\n",
    "        \"c\":\"sum\"\n",
    "}\n",
    "print(dict1)\n",
    "dict1[\"d\"]= \"something\"\n",
    "print(dict1)"
   ]
  },
  {
   "cell_type": "markdown",
   "id": "462bcf8d",
   "metadata": {},
   "source": [
    "<br>"
   ]
  },
  {
   "cell_type": "markdown",
   "id": "22baf110",
   "metadata": {},
   "source": [
    "### Q60. Create a dictionary and access all the values in that dictionary."
   ]
  },
  {
   "cell_type": "code",
   "execution_count": 47,
   "id": "418dc7b0",
   "metadata": {},
   "outputs": [
    {
     "name": "stdout",
     "output_type": "stream",
     "text": [
      "sam\n",
      "sunny\n",
      "sum\n"
     ]
    }
   ],
   "source": [
    "dict1 = {\n",
    "        \"a\":\"sam\",\n",
    "        \"b\":\"sunny\",\n",
    "        \"c\":\"sum\"\n",
    "}\n",
    "print(dict1[\"a\"])\n",
    "print(dict1[\"b\"])\n",
    "print(dict1[\"c\"])"
   ]
  },
  {
   "cell_type": "markdown",
   "id": "643e8515",
   "metadata": {},
   "source": [
    "<br>"
   ]
  },
  {
   "cell_type": "markdown",
   "id": "36f66707",
   "metadata": {},
   "source": [
    "### Q61. Create a nested dictionary and access all the element in the inner dictionary."
   ]
  },
  {
   "cell_type": "code",
   "execution_count": 49,
   "id": "011ab795",
   "metadata": {},
   "outputs": [
    {
     "name": "stdout",
     "output_type": "stream",
     "text": [
      "cse\n",
      "cybersecurity\n",
      "csit\n",
      "ml engineer\n"
     ]
    }
   ],
   "source": [
    "dict2 = {\n",
    "        \"sam\": {\n",
    "            \"department\" : \"cse\",\n",
    "            \"domain\": \"cybersecurity\"\n",
    "        },\n",
    "        \"sunny\": {\n",
    "            \"department\" : \"csit\",\n",
    "            \"domain\": \"ml engineer\"\n",
    "        }\n",
    "}\n",
    "print(dict2[\"sam\"][\"department\"])\n",
    "print(dict2[\"sam\"][\"domain\"])\n",
    "print(dict2[\"sunny\"][\"department\"])\n",
    "print(dict2[\"sunny\"][\"domain\"])"
   ]
  },
  {
   "cell_type": "markdown",
   "id": "1e04a43c",
   "metadata": {},
   "source": [
    "<br>"
   ]
  },
  {
   "cell_type": "markdown",
   "id": "20c5875b",
   "metadata": {},
   "source": [
    "### Q62. What is the use of get() function?"
   ]
  },
  {
   "cell_type": "code",
   "execution_count": 50,
   "id": "360d28f6",
   "metadata": {},
   "outputs": [
    {
     "name": "stdout",
     "output_type": "stream",
     "text": [
      "{'department': 'cse', 'domain': 'cybersecurity'}\n"
     ]
    }
   ],
   "source": [
    "# get() returns the value of a specified key\n",
    "\n",
    "dict2 = {\n",
    "        \"sam\": {\n",
    "            \"department\" : \"cse\",\n",
    "            \"domain\": \"cybersecurity\"\n",
    "        },\n",
    "        \"sunny\": {\n",
    "            \"department\" : \"csit\",\n",
    "            \"domain\": \"ml engineer\"\n",
    "        }\n",
    "}\n",
    "print(dict2.get(\"sam\"))\n"
   ]
  },
  {
   "cell_type": "markdown",
   "id": "478987a0",
   "metadata": {},
   "source": [
    "<br>"
   ]
  },
  {
   "cell_type": "markdown",
   "id": "9a516d38",
   "metadata": {},
   "source": [
    "### Q63. What is the use of items() function?"
   ]
  },
  {
   "cell_type": "code",
   "execution_count": 51,
   "id": "4579c5d0",
   "metadata": {},
   "outputs": [
    {
     "name": "stdout",
     "output_type": "stream",
     "text": [
      "dict_items([('sam', {'department': 'cse', 'domain': 'cybersecurity'}), ('sunny', {'department': 'csit', 'domain': 'ml engineer'})])\n"
     ]
    }
   ],
   "source": [
    "# items() will return a list containinga  tuple for each key value pair\n",
    "\n",
    "dict2 = {\n",
    "        \"sam\": {\n",
    "            \"department\" : \"cse\",\n",
    "            \"domain\": \"cybersecurity\"\n",
    "        },\n",
    "        \"sunny\": {\n",
    "            \"department\" : \"csit\",\n",
    "            \"domain\": \"ml engineer\"\n",
    "        }\n",
    "}\n",
    "print(dict2.items())\n"
   ]
  },
  {
   "cell_type": "markdown",
   "id": "a59900f0",
   "metadata": {},
   "source": [
    "<br>"
   ]
  },
  {
   "cell_type": "markdown",
   "id": "1cfa9935",
   "metadata": {},
   "source": [
    "### Q64. What is the use of pop() function?"
   ]
  },
  {
   "cell_type": "code",
   "execution_count": 54,
   "id": "cd56e5c8",
   "metadata": {},
   "outputs": [
    {
     "name": "stdout",
     "output_type": "stream",
     "text": [
      "{'sunny': {'department': 'csit', 'domain': 'ml engineer'}}\n"
     ]
    }
   ],
   "source": [
    "# pop() removes the element with the specified key\n",
    "\n",
    "dict2 = {\n",
    "        \"sam\": {\n",
    "            \"department\" : \"cse\",\n",
    "            \"domain\": \"cybersecurity\"\n",
    "        },\n",
    "        \"sunny\": {\n",
    "            \"department\" : \"csit\",\n",
    "            \"domain\": \"ml engineer\"\n",
    "        }\n",
    "}\n",
    "dict2.pop(\"sam\")\n",
    "print(dict2)\n"
   ]
  },
  {
   "cell_type": "markdown",
   "id": "52f19412",
   "metadata": {},
   "source": [
    "<br>"
   ]
  },
  {
   "cell_type": "markdown",
   "id": "9678a229",
   "metadata": {},
   "source": [
    "### Q65. What is the use of popitem() function?"
   ]
  },
  {
   "cell_type": "code",
   "execution_count": 58,
   "id": "7a001944",
   "metadata": {},
   "outputs": [
    {
     "name": "stdout",
     "output_type": "stream",
     "text": [
      "('sunny', {'department': 'csit', 'domain': 'ml engineer'})\n",
      "{'sam': {'department': 'cse', 'domain': 'cybersecurity'}}\n"
     ]
    }
   ],
   "source": [
    "#popitem() removes the last inserted key-value pair\n",
    "\n",
    "dict2 = {\n",
    "        \"sam\": {\n",
    "            \"department\" : \"cse\",\n",
    "            \"domain\": \"cybersecurity\"\n",
    "        },\n",
    "        \"sunny\": {\n",
    "            \"department\" : \"csit\",\n",
    "            \"domain\": \"ml engineer\"\n",
    "        }\n",
    "}\n",
    "print(dict2.popitem())\n",
    "print(dict2)"
   ]
  },
  {
   "cell_type": "markdown",
   "id": "93316e2e",
   "metadata": {},
   "source": [
    "<br>"
   ]
  },
  {
   "cell_type": "markdown",
   "id": "2375a5b2",
   "metadata": {},
   "source": [
    "### Q66. What is the use of keys() function?"
   ]
  },
  {
   "cell_type": "code",
   "execution_count": 62,
   "id": "fe4b1579",
   "metadata": {},
   "outputs": [
    {
     "name": "stdout",
     "output_type": "stream",
     "text": [
      "dict_keys(['a', 'b', 'c'])\n"
     ]
    }
   ],
   "source": [
    "# keys() will return the list of all keys in the given dictionary\n",
    "\n",
    "dict1 = {\n",
    "        \"a\":\"sam\",\n",
    "        \"b\":\"sunny\",\n",
    "        \"c\":\"sum\"\n",
    "}\n",
    "\n",
    "print(dict1.keys())"
   ]
  },
  {
   "cell_type": "markdown",
   "id": "f46daa24",
   "metadata": {},
   "source": [
    "<br>"
   ]
  },
  {
   "cell_type": "markdown",
   "id": "576f79e6",
   "metadata": {},
   "source": [
    "### Q67. What is the use of values() function?"
   ]
  },
  {
   "cell_type": "code",
   "execution_count": 63,
   "id": "79905bf7",
   "metadata": {},
   "outputs": [
    {
     "name": "stdout",
     "output_type": "stream",
     "text": [
      "dict_values(['sam', 'sunny', 'sum'])\n"
     ]
    }
   ],
   "source": [
    "# keys() will return the list of all values in the given dictionary\n",
    "\n",
    "dict1 = {\n",
    "        \"a\":\"sam\",\n",
    "        \"b\":\"sunny\",\n",
    "        \"c\":\"sum\"\n",
    "}\n",
    "\n",
    "print(dict1.values())"
   ]
  },
  {
   "cell_type": "markdown",
   "id": "babcc615",
   "metadata": {},
   "source": [
    "<br>"
   ]
  },
  {
   "cell_type": "markdown",
   "id": "c8a3e1bf",
   "metadata": {},
   "source": [
    "### Q68. What are loops in Python?"
   ]
  },
  {
   "cell_type": "code",
   "execution_count": 64,
   "id": "831dbd25",
   "metadata": {},
   "outputs": [],
   "source": [
    "# In python looping statements are used to run a certain block of code repeatedly until a certain condition is satisfied."
   ]
  },
  {
   "cell_type": "markdown",
   "id": "2feb52aa",
   "metadata": {},
   "source": [
    "<br>"
   ]
  },
  {
   "cell_type": "markdown",
   "id": "e2cea20f",
   "metadata": {},
   "source": [
    "### Q69. How many type of loop are there in Python?"
   ]
  },
  {
   "cell_type": "code",
   "execution_count": null,
   "id": "40b83c74",
   "metadata": {},
   "outputs": [],
   "source": [
    "# for loop and  while loop"
   ]
  },
  {
   "cell_type": "markdown",
   "id": "bc417a5b",
   "metadata": {},
   "source": [
    "<br>"
   ]
  },
  {
   "cell_type": "markdown",
   "id": "1fbef6dd",
   "metadata": {},
   "source": [
    "### Q70. What is the difference between for and while loops?"
   ]
  },
  {
   "cell_type": "code",
   "execution_count": 68,
   "id": "9641b67b",
   "metadata": {},
   "outputs": [],
   "source": [
    "# for loop is used to iterate over a sequence(list, tuple, set, dictionary, string)\n",
    "# in for loop, indexing variable declaration is not required beforehand\n",
    "\n",
    "# while loop runs a block of code until the condition satifies, indexing variable has to be declared and \n",
    "# incrementation has to be declared correctly"
   ]
  },
  {
   "cell_type": "markdown",
   "id": "40eb9dfb",
   "metadata": {},
   "source": [
    "<br>"
   ]
  },
  {
   "cell_type": "markdown",
   "id": "afe2513b",
   "metadata": {},
   "source": [
    "### Q71. What is the use of continue statement?"
   ]
  },
  {
   "cell_type": "code",
   "execution_count": 69,
   "id": "c6cfd735",
   "metadata": {},
   "outputs": [
    {
     "name": "stdout",
     "output_type": "stream",
     "text": [
      "1\n",
      "3\n",
      "5\n",
      "7\n",
      "9\n"
     ]
    }
   ],
   "source": [
    "# continue statement will stop the execution of its below statements and move to the next iteration in the loop.\n",
    "\n",
    "for i in range(10):\n",
    "    if i%2==0:\n",
    "        continue\n",
    "    else:\n",
    "        print(i)"
   ]
  },
  {
   "cell_type": "markdown",
   "id": "6b6c702e",
   "metadata": {},
   "source": [
    "<br>"
   ]
  },
  {
   "cell_type": "markdown",
   "id": "8812a750",
   "metadata": {},
   "source": [
    "### Q72. What is the use of break statement?"
   ]
  },
  {
   "cell_type": "code",
   "execution_count": 70,
   "id": "48bac86f",
   "metadata": {},
   "outputs": [
    {
     "name": "stdout",
     "output_type": "stream",
     "text": [
      "0\n",
      "1\n",
      "2\n",
      "3\n",
      "4\n",
      "5\n"
     ]
    }
   ],
   "source": [
    "# break statement is used to break the loop and come out of the loop.\n",
    "\n",
    "for i in range(10):\n",
    "    if i>=6:\n",
    "        break\n",
    "    else:\n",
    "        print(i)"
   ]
  },
  {
   "cell_type": "markdown",
   "id": "e069bd62",
   "metadata": {},
   "source": [
    "<br>"
   ]
  },
  {
   "cell_type": "markdown",
   "id": "8454f259",
   "metadata": {},
   "source": [
    "### Q73. What is the use of pass statement?"
   ]
  },
  {
   "cell_type": "code",
   "execution_count": 71,
   "id": "74ad6dff",
   "metadata": {},
   "outputs": [],
   "source": [
    "# pass statement is used to pass to the next line without giving any error, basically it won't do anything.\n",
    "\n",
    "for i in range(10):\n",
    "    pass"
   ]
  },
  {
   "cell_type": "markdown",
   "id": "4b22dff1",
   "metadata": {},
   "source": [
    "<br>"
   ]
  },
  {
   "cell_type": "markdown",
   "id": "0649a464",
   "metadata": {},
   "source": [
    "### Q74. What is the use of range() function?"
   ]
  },
  {
   "cell_type": "code",
   "execution_count": 72,
   "id": "1aa03160",
   "metadata": {},
   "outputs": [
    {
     "name": "stdout",
     "output_type": "stream",
     "text": [
      "10\n",
      "12\n",
      "14\n",
      "16\n",
      "18\n"
     ]
    }
   ],
   "source": [
    "# range() is used to generate  arange of values. \n",
    "# range(start, stop, step) \n",
    "# start is inclusive, stop is exclusive\n",
    "\n",
    "for i in range(10,20,2):\n",
    "    print(i)"
   ]
  },
  {
   "cell_type": "markdown",
   "id": "f481a477",
   "metadata": {},
   "source": [
    "<br>\n"
   ]
  },
  {
   "cell_type": "markdown",
   "id": "0a1b0ffd",
   "metadata": {},
   "source": [
    "### Q75. How can you loop over a dictionary?"
   ]
  },
  {
   "cell_type": "code",
   "execution_count": 79,
   "id": "c94d90fe",
   "metadata": {},
   "outputs": [
    {
     "name": "stdout",
     "output_type": "stream",
     "text": [
      "using items() function\n",
      "a : sam\n",
      "b : sunny\n",
      "c : sum\n",
      "d : antony\n",
      "\n",
      "using keys() function\n",
      "a : sam\n",
      "b : sunny\n",
      "c : sum\n",
      "d : antony\n",
      "\n"
     ]
    }
   ],
   "source": [
    "# using for loop and items() or keys() or values(), we can loop over a dictionary.\n",
    "\n",
    "dict1 = {\n",
    "        \"a\":\"sam\",\n",
    "        \"b\":\"sunny\",\n",
    "        \"c\":\"sum\",\n",
    "        \"d\":\"antony\"\n",
    "}\n",
    "print(\"using items() function\")\n",
    "for key, value in dict1.items():\n",
    "    print(f\"{key} : {value}\")\n",
    "print()\n",
    "print(\"using keys() function\")\n",
    "for key in dict1.keys():\n",
    "    print(f\"{key} : {dict1[key]}\")\n",
    "print()   "
   ]
  },
  {
   "cell_type": "markdown",
   "id": "63cfd786",
   "metadata": {},
   "source": [
    "<br>"
   ]
  },
  {
   "cell_type": "markdown",
   "id": "a73e575c",
   "metadata": {},
   "source": [
    "## Coding problems"
   ]
  },
  {
   "cell_type": "markdown",
   "id": "b9c352b5",
   "metadata": {},
   "source": [
    "<br>"
   ]
  },
  {
   "cell_type": "markdown",
   "id": "bbb1c020",
   "metadata": {},
   "source": [
    "### Q76. Write a Python program to find the factorial of a given number."
   ]
  },
  {
   "cell_type": "code",
   "execution_count": 84,
   "id": "2eef23d3",
   "metadata": {},
   "outputs": [
    {
     "name": "stdout",
     "output_type": "stream",
     "text": [
      "Enter a  number to find it's factorial: 5\n",
      "Factorial of 5 is 120\n"
     ]
    }
   ],
   "source": [
    "def factorial(num):\n",
    "    ans = 1\n",
    "    for i in range(2,num+1):\n",
    "        ans *= i\n",
    "    return ans\n",
    "\n",
    "user = int(input(\"Enter a  number to find it's factorial: \"))\n",
    "print(f\"Factorial of {user} is {factorial(user)}\")\n"
   ]
  },
  {
   "cell_type": "markdown",
   "id": "562390be",
   "metadata": {},
   "source": [
    "<br>"
   ]
  },
  {
   "cell_type": "markdown",
   "id": "5aa86b09",
   "metadata": {},
   "source": [
    "### Q77. Write a Python program to calculate the simple interest. Formula to calculate simple interest is SI = (P*R*T)/100"
   ]
  },
  {
   "cell_type": "code",
   "execution_count": 90,
   "id": "0e4f5e37",
   "metadata": {},
   "outputs": [
    {
     "name": "stdout",
     "output_type": "stream",
     "text": [
      "Enter details to calculate simple interest\n",
      "Enter principal($): 10000\n",
      "Enter rate: 2.56\n",
      "Enter time: 2\n",
      "Simple Interest is $512.0 \n"
     ]
    }
   ],
   "source": [
    "def simple_interest(principal, rate, time):\n",
    "    interest = (principal*rate*time)/100\n",
    "    return interest\n",
    "\n",
    "print(\"Enter details to calculate simple interest\")\n",
    "principal = float(input(\"Enter principal($): \"))\n",
    "rate = float(input(\"Enter rate: \"))\n",
    "time = float(input(\"Enter time: \"))\n",
    "print(f\"Simple Interest is ${simple_interest(principal,rate,time)} \")    \n",
    "\n"
   ]
  },
  {
   "cell_type": "markdown",
   "id": "f43c3cc1",
   "metadata": {},
   "source": [
    "<br>"
   ]
  },
  {
   "cell_type": "markdown",
   "id": "2dea8e2d",
   "metadata": {},
   "source": [
    "### Q78. Write a Python program to calculate the compound interest. Formula of compound interest is A = P(1+ R/100)^t."
   ]
  },
  {
   "cell_type": "code",
   "execution_count": null,
   "id": "08bd7008",
   "metadata": {},
   "outputs": [],
   "source": [
    "def compound_interest(principal, rate, time):\n",
    "    interest = principal(1+rate/100)\n",
    "    return interest\n",
    "\n",
    "print(\"Enter details to calculate simple interest\")\n",
    "principal = float(input(\"Enter principal($): \"))\n",
    "rate = float(input(\"Enter rate: \"))\n",
    "time = float(input(\"Enter time: \"))\n",
    "print(f\"Compound Interest is ${compound_interest(principal,rate,time)} \") "
   ]
  },
  {
   "cell_type": "markdown",
   "id": "83f840c7",
   "metadata": {},
   "source": [
    "<br>"
   ]
  },
  {
   "cell_type": "markdown",
   "id": "3b1c2ae2",
   "metadata": {},
   "source": [
    "### Q79. Write a Python program to check if a number is prime or not."
   ]
  },
  {
   "cell_type": "code",
   "execution_count": 95,
   "id": "9960da38",
   "metadata": {},
   "outputs": [
    {
     "name": "stdout",
     "output_type": "stream",
     "text": [
      "Enter a number to check if it's prime number or not: 83\n",
      "83 is a Prime number\n"
     ]
    }
   ],
   "source": [
    "def is_prime(num):\n",
    "    for i in range(2,num):\n",
    "        if num%i ==0:\n",
    "            return False\n",
    "    return True\n",
    "    \n",
    "user = int(input(\"Enter a number to check if it's prime number or not: \"))\n",
    "\n",
    "print(f\"{user} is a Prime number\") if is_prime(user) else print(f\"{user} is not a Prime number\")\n"
   ]
  },
  {
   "cell_type": "markdown",
   "id": "0dfd3760",
   "metadata": {},
   "source": [
    "<br>"
   ]
  },
  {
   "cell_type": "markdown",
   "id": "1d2d2f32",
   "metadata": {},
   "source": [
    "### Q80. Write a Python program to check Armstrong Number."
   ]
  },
  {
   "cell_type": "code",
   "execution_count": 1,
   "id": "43dc87fd",
   "metadata": {},
   "outputs": [
    {
     "name": "stdout",
     "output_type": "stream",
     "text": [
      "mention for which n- numbered digit, armstrong number is to be calculated:  3\n",
      "Enter a  3-numbered digit: 371\n",
      "371 is an armstrong number\n"
     ]
    }
   ],
   "source": [
    "def armstrong(num, digit):\n",
    "    temp = num \n",
    "    ans =0 \n",
    "    while(num>0):\n",
    "        rem = num%10\n",
    "        ans += pow(rem, digit)\n",
    "        num //= 10\n",
    "    return True if ans==temp else False\n",
    "\n",
    "digit = int(input(\"mention for which n- numbered digit, armstrong number is to be calculated:  \"))\n",
    "user = int(input(f\"Enter a  {digit}-numbered digit: \"))\n",
    "print(f\"{user} is an armstrong number\") if armstrong(user, digit) else print(f\"{user} is not an armstrong number\")"
   ]
  },
  {
   "cell_type": "markdown",
   "id": "b21d0365",
   "metadata": {},
   "source": [
    "<br>"
   ]
  },
  {
   "cell_type": "markdown",
   "id": "8cb919e9",
   "metadata": {},
   "source": [
    "### Q81. Write a Python program to find the n-th Fibonacci Number."
   ]
  },
  {
   "cell_type": "code",
   "execution_count": null,
   "id": "1cdfdf56",
   "metadata": {},
   "outputs": [],
   "source": [
    "\n"
   ]
  },
  {
   "cell_type": "markdown",
   "id": "71ed23e9",
   "metadata": {},
   "source": [
    "<br>"
   ]
  },
  {
   "cell_type": "markdown",
   "id": "38b5d954",
   "metadata": {},
   "source": [
    "### Q82. Write a Python program to interchange the first and last element in a list."
   ]
  },
  {
   "cell_type": "code",
   "execution_count": 2,
   "id": "aebd88fd",
   "metadata": {},
   "outputs": [
    {
     "name": "stdout",
     "output_type": "stream",
     "text": [
      "[10, 2, 3, 4, 5, 6, 7, 8, 9, 1]\n"
     ]
    }
   ],
   "source": [
    "list1 = [1,2,3,4,5,6,7,8,9,10]\n",
    "temp = list1[0]\n",
    "list1[0] =list1[9]\n",
    "list1[9] = temp\n",
    "print(list1)"
   ]
  },
  {
   "cell_type": "markdown",
   "id": "9287d2d7",
   "metadata": {},
   "source": [
    "<br>"
   ]
  },
  {
   "cell_type": "markdown",
   "id": "fc465656",
   "metadata": {},
   "source": [
    "### Q83. Write a Python program to swap two elements in a list."
   ]
  },
  {
   "cell_type": "code",
   "execution_count": null,
   "id": "c698d55d",
   "metadata": {},
   "outputs": [],
   "source": [
    "list1 = [1,2,3,4,5,6,7,8,9,10]\n"
   ]
  },
  {
   "cell_type": "markdown",
   "id": "f1316e3c",
   "metadata": {},
   "source": [
    "<br>"
   ]
  },
  {
   "cell_type": "markdown",
   "id": "9db0fa75",
   "metadata": {},
   "source": [
    "### Q84. Write a Python program to find N largest element from a list."
   ]
  },
  {
   "cell_type": "markdown",
   "id": "d2f1ce00",
   "metadata": {},
   "source": [
    "<br>"
   ]
  },
  {
   "cell_type": "markdown",
   "id": "e6d0adfb",
   "metadata": {},
   "source": [
    "### Q85. Write a Python program to find cumulative sum of a list."
   ]
  },
  {
   "cell_type": "markdown",
   "id": "db7b5ea4",
   "metadata": {},
   "source": [
    "<br>"
   ]
  },
  {
   "cell_type": "markdown",
   "id": "6f326e5a",
   "metadata": {},
   "source": [
    "### Q86. Write a Python program to check if a string is palindrome or not."
   ]
  },
  {
   "cell_type": "code",
   "execution_count": 5,
   "id": "588d481a",
   "metadata": {},
   "outputs": [
    {
     "name": "stdout",
     "output_type": "stream",
     "text": [
      "Enter a number to check if it's palindrome number or not: 121\n",
      "121 is not a palindrome number\n"
     ]
    }
   ],
   "source": [
    "def palindrome(num):\n",
    "    temp = num\n",
    "    ans = 1\n",
    "    while num>0:\n",
    "        rem = num%10\n",
    "        ans = ans*10+rem\n",
    "        num //= 10\n",
    "    return True if ans==temp else False\n",
    "\n",
    "user = int(input(\"Enter a number to check if it's palindrome number or not: \"))\n",
    "print(f\"{user} is a palindrome number\") if palindrome(user) else print(f\"{user} is not a palindrome number\")"
   ]
  },
  {
   "cell_type": "markdown",
   "id": "d3c10b6a",
   "metadata": {},
   "source": [
    "<br>"
   ]
  },
  {
   "cell_type": "markdown",
   "id": "2cd9fb8e",
   "metadata": {},
   "source": [
    "### Q87. Write a Python program to remove i'th element from a string."
   ]
  },
  {
   "cell_type": "markdown",
   "id": "3ae81f87",
   "metadata": {},
   "source": [
    "<br>"
   ]
  },
  {
   "cell_type": "markdown",
   "id": "1d17b9a3",
   "metadata": {},
   "source": [
    "### Q88. Write a Python program to check if a substring is present in a given string."
   ]
  },
  {
   "cell_type": "markdown",
   "id": "ab339ffb",
   "metadata": {},
   "source": [
    "<br>"
   ]
  },
  {
   "cell_type": "markdown",
   "id": "447b7339",
   "metadata": {},
   "source": [
    "### Q89. Write a Python program to find words which are greater than given length k."
   ]
  },
  {
   "cell_type": "code",
   "execution_count": 5,
   "id": "f779f651",
   "metadata": {},
   "outputs": [
    {
     "name": "stdout",
     "output_type": "stream",
     "text": [
      "Enter length  to find words which are greater than the given length: 3\n",
      "['sunny', 'antony', 'decent', 'criminal']\n"
     ]
    }
   ],
   "source": [
    "list1 = ['sam', 'sunny', 'sum', 'antony', 'decent', 'criminal', 'by']\n",
    "user = int(input(\"Enter length  to find words which are greater than the given length: \"))\n",
    "list2 = []\n",
    "for item in list1:\n",
    "    if len(item)>user:\n",
    "        list2.append(item)\n",
    "        \n",
    "print(list2)\n",
    "     "
   ]
  },
  {
   "cell_type": "markdown",
   "id": "38153e09",
   "metadata": {},
   "source": [
    "<br>"
   ]
  },
  {
   "cell_type": "markdown",
   "id": "ec0079ca",
   "metadata": {},
   "source": [
    "### Q90. Write a Python program to extract unquire dictionary values."
   ]
  },
  {
   "cell_type": "markdown",
   "id": "448e6002",
   "metadata": {},
   "source": [
    "<br>"
   ]
  },
  {
   "cell_type": "markdown",
   "id": "4189e486",
   "metadata": {},
   "source": [
    "### Q91. Write a Python program to merge two dictionary."
   ]
  },
  {
   "cell_type": "markdown",
   "id": "ae952010",
   "metadata": {},
   "source": [
    "<br>"
   ]
  },
  {
   "cell_type": "markdown",
   "id": "cfbf273d",
   "metadata": {},
   "source": [
    "### Q92. Write a Python program to convert a list of tuples into dictionary.\n",
    "```\n",
    "Input : [('Sachin', 10), ('MSD', 7), ('Kohli', 18), ('Rohit', 45)]\n",
    "Output : {'Sachin': 10, 'MSD': 7, 'Kohli': 18, 'Rohit': 45}\n",
    "```"
   ]
  },
  {
   "cell_type": "code",
   "execution_count": 8,
   "id": "e23fc796",
   "metadata": {},
   "outputs": [
    {
     "name": "stdout",
     "output_type": "stream",
     "text": [
      "{'Sachin': 10, 'MSD': 7, 'Kohli': 18, 'Rohit': 45}\n"
     ]
    }
   ],
   "source": [
    "list1 = [('Sachin', 10), ('MSD', 7), ('Kohli', 18), ('Rohit', 45)]\n",
    "dict1 ={}\n",
    "for item in list1:\n",
    "    dict1[item[0]] = item[1]\n",
    "    \n",
    "print(dict1)"
   ]
  },
  {
   "cell_type": "markdown",
   "id": "7ddd8c18",
   "metadata": {},
   "source": [
    "<br>"
   ]
  },
  {
   "cell_type": "markdown",
   "id": "d2b6c28c",
   "metadata": {},
   "source": [
    "\n",
    "### Q93. Write a Python program to create a list of tuples from given list having number and its cube in each tuple.\n",
    "```\n",
    "Input: list = [9, 5, 6]\n",
    "Output: [(9, 729), (5, 125), (6, 216)]\n",
    "```"
   ]
  },
  {
   "cell_type": "code",
   "execution_count": 7,
   "id": "f9ec899c",
   "metadata": {},
   "outputs": [
    {
     "name": "stdout",
     "output_type": "stream",
     "text": [
      "[(9, 729), (5, 125), (6, 216)]\n"
     ]
    }
   ],
   "source": [
    "def cube(num):\n",
    "    return (num, num*num*num)\n",
    "\n",
    "list1 = [9, 5, 6]\n",
    "final = []\n",
    "for item in list1:\n",
    "    ans = cube(item)\n",
    "    final.append(ans)\n",
    "\n",
    "print(final)"
   ]
  },
  {
   "cell_type": "markdown",
   "id": "f4587535",
   "metadata": {},
   "source": [
    "<br>"
   ]
  },
  {
   "cell_type": "markdown",
   "id": "92776f9b",
   "metadata": {},
   "source": [
    "### Q94. Write a Python program to get all combinations of 2 tuples.\n",
    "```\n",
    "Input : test_tuple1 = (7, 2), test_tuple2 = (7, 8)\n",
    "Output : [(7, 7), (7, 8), (2, 7), (2, 8), (7, 7), (7, 2), (8, 7), (8, 2)]\n",
    "```"
   ]
  },
  {
   "cell_type": "markdown",
   "id": "6151a30c",
   "metadata": {},
   "source": [
    "<br>"
   ]
  },
  {
   "cell_type": "markdown",
   "id": "c45a211c",
   "metadata": {},
   "source": [
    "### Q95. Write a Python program to sort a list of tuples by second item.\n",
    "```\n",
    "Input : [('for', 24), ('Geeks', 8), ('Geeks', 30)] \n",
    "Output : [('Geeks', 8), ('for', 24), ('Geeks', 30)]\n",
    "```"
   ]
  },
  {
   "cell_type": "code",
   "execution_count": null,
   "id": "3d7b3cea",
   "metadata": {},
   "outputs": [],
   "source": [
    "tuple1 = [('for', 24), ('Geeks', 8), ('Geeks', 30)]\n",
    "\n",
    "print\n",
    "    "
   ]
  },
  {
   "cell_type": "markdown",
   "id": "f2dca0fb",
   "metadata": {},
   "source": [
    "<br>"
   ]
  },
  {
   "cell_type": "markdown",
   "id": "e1cf5ca8",
   "metadata": {},
   "source": [
    "### Q96. Write a python program to print below pattern.\n",
    "```\n",
    "* \n",
    "* * \n",
    "* * * \n",
    "* * * * \n",
    "* * * * * \n",
    "```"
   ]
  },
  {
   "cell_type": "markdown",
   "id": "02c4ff5b",
   "metadata": {},
   "source": [
    "<br>"
   ]
  },
  {
   "cell_type": "markdown",
   "id": "c8dc0716",
   "metadata": {},
   "source": [
    "### Q97. Write a python program to print below pattern.\n",
    "```\n",
    "    *\n",
    "   **\n",
    "  ***\n",
    " ****\n",
    "*****\n",
    "```"
   ]
  },
  {
   "cell_type": "code",
   "execution_count": null,
   "id": "9c962833",
   "metadata": {},
   "outputs": [],
   "source": [
    "\n",
    "        "
   ]
  },
  {
   "cell_type": "markdown",
   "id": "ebaa63d8",
   "metadata": {},
   "source": [
    "<br>"
   ]
  },
  {
   "cell_type": "markdown",
   "id": "8967745f",
   "metadata": {},
   "source": [
    "### Q98. Write a python program to print below pattern.\n",
    "```\n",
    "    * \n",
    "   * * \n",
    "  * * * \n",
    " * * * * \n",
    "* * * * * \n",
    "```"
   ]
  },
  {
   "cell_type": "code",
   "execution_count": null,
   "id": "e528ee1b",
   "metadata": {},
   "outputs": [],
   "source": []
  },
  {
   "cell_type": "markdown",
   "id": "cb99e682",
   "metadata": {},
   "source": [
    "<br>"
   ]
  },
  {
   "cell_type": "markdown",
   "id": "db51040d",
   "metadata": {},
   "source": [
    "### Q99. Write a python program to print below pattern.\n",
    "```\n",
    "1 \n",
    "1 2 \n",
    "1 2 3 \n",
    "1 2 3 4 \n",
    "1 2 3 4 5\n",
    "```"
   ]
  },
  {
   "cell_type": "code",
   "execution_count": 12,
   "id": "c8dde823",
   "metadata": {},
   "outputs": [
    {
     "name": "stdout",
     "output_type": "stream",
     "text": [
      "1  \n",
      "1  2  \n",
      "1  2  3  \n",
      "1  2  3  4  \n",
      "1  2  3  4  5  \n"
     ]
    }
   ],
   "source": [
    "for i in range(5):\n",
    "    for j in range(i+1):\n",
    "        print(j+1,\" \", end=\"\")\n",
    "    print()"
   ]
  },
  {
   "cell_type": "markdown",
   "id": "9c981665",
   "metadata": {},
   "source": [
    "<br>"
   ]
  },
  {
   "cell_type": "markdown",
   "id": "e1292589",
   "metadata": {},
   "source": [
    "### Q100. Write a python program to print below pattern.\n",
    "```\n",
    "A \n",
    "B B \n",
    "C C C \n",
    "D D D D \n",
    "E E E E E \n",
    "```"
   ]
  },
  {
   "cell_type": "code",
   "execution_count": 10,
   "id": "2a4ac421",
   "metadata": {},
   "outputs": [
    {
     "name": "stdout",
     "output_type": "stream",
     "text": [
      "A  \n",
      "B  B  \n",
      "C  C  C  \n",
      "D  D  D  D  \n",
      "E  E  E  E  E  \n"
     ]
    }
   ],
   "source": [
    "list1 = ['A', 'B', 'C', 'D', 'E']\n",
    "\n",
    "for i in range(5):\n",
    "    for j in range(i+1):\n",
    "        print(list1[i],\" \", end=\"\")\n",
    "    print()"
   ]
  },
  {
   "cell_type": "markdown",
   "id": "bf06e660",
   "metadata": {},
   "source": [
    "<br>"
   ]
  },
  {
   "cell_type": "code",
   "execution_count": null,
   "id": "348bc1f8",
   "metadata": {},
   "outputs": [],
   "source": []
  }
 ],
 "metadata": {
  "kernelspec": {
   "display_name": "Python 3 (ipykernel)",
   "language": "python",
   "name": "python3"
  },
  "language_info": {
   "codemirror_mode": {
    "name": "ipython",
    "version": 3
   },
   "file_extension": ".py",
   "mimetype": "text/x-python",
   "name": "python",
   "nbconvert_exporter": "python",
   "pygments_lexer": "ipython3",
   "version": "3.10.7"
  }
 },
 "nbformat": 4,
 "nbformat_minor": 5
}
