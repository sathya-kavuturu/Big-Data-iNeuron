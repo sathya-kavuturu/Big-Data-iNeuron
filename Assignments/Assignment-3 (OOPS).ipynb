{
 "cells": [
  {
   "cell_type": "markdown",
   "id": "87615c9c",
   "metadata": {},
   "source": [
    "## Python OOP Assignment"
   ]
  },
  {
   "cell_type": "markdown",
   "id": "bf3f3fbb",
   "metadata": {},
   "source": [
    "### Q1. What is the purpose of Python's OOP?"
   ]
  },
  {
   "cell_type": "markdown",
   "id": "ca228f04",
   "metadata": {},
   "source": [
    "In python, object-oriented Programming (OOPs) is a programming paradigm that uses objects and  classes in programming. It aims to implement real-world entities like inheritance, polymorphisms, encapsulation, etc. in the programming"
   ]
  },
  {
   "cell_type": "markdown",
   "id": "de49c090",
   "metadata": {},
   "source": [
    "<br>"
   ]
  },
  {
   "cell_type": "markdown",
   "id": "aeb686a5",
   "metadata": {},
   "source": [
    "### Q2. Where does an inheritance search look for an attribute?"
   ]
  },
  {
   "cell_type": "markdown",
   "id": "507d7b0d",
   "metadata": {},
   "source": [
    "The whole point of a namespace tool like the class statement is to support name inheritance. In Python, inheritance happens when an object is qualified, and involves searching an attribute definition tree (one or more namespaces). Every time you use an expression of the form object."
   ]
  },
  {
   "cell_type": "markdown",
   "id": "288a5f29",
   "metadata": {},
   "source": [
    "<br>"
   ]
  },
  {
   "cell_type": "markdown",
   "id": "eb8718fa",
   "metadata": {},
   "source": [
    "### Q3. How do you distinguish between a class object and an instance object?"
   ]
  },
  {
   "cell_type": "markdown",
   "id": "8e02e5ce",
   "metadata": {},
   "source": [
    "a class object"
   ]
  },
  {
   "cell_type": "markdown",
   "id": "c74f0521",
   "metadata": {},
   "source": [
    "<br>"
   ]
  },
  {
   "cell_type": "markdown",
   "id": "050866ae",
   "metadata": {},
   "source": [
    "### Q4. What makes the first argument in a class’s method function special?"
   ]
  },
  {
   "cell_type": "markdown",
   "id": "b5b5243d",
   "metadata": {},
   "source": [
    "The calling process is automatic while the receiving process is not (its explicit). This is the reason the first parameter of a function in class must be the object itself. Writing this parameter as self is merely a convention."
   ]
  },
  {
   "cell_type": "markdown",
   "id": "fcff8d75",
   "metadata": {},
   "source": [
    "<br>"
   ]
  },
  {
   "cell_type": "markdown",
   "id": "5e656144",
   "metadata": {},
   "source": [
    "### Q5. What is the purpose of the init method?"
   ]
  },
  {
   "cell_type": "markdown",
   "id": "605604a2",
   "metadata": {},
   "source": [
    "The __init__ method lets the class initialize the object's attributes and serves no other purpose. It is only used within classes"
   ]
  },
  {
   "cell_type": "markdown",
   "id": "1489ce5a",
   "metadata": {},
   "source": [
    "<br>"
   ]
  },
  {
   "cell_type": "markdown",
   "id": "13f59dbc",
   "metadata": {},
   "source": [
    "### Q6. What is the process for creating a class instance?"
   ]
  },
  {
   "cell_type": "markdown",
   "id": "22819b17",
   "metadata": {},
   "source": [
    "To create instances of a class, you call the class using class name and pass in whatever arguments its __init__ method accepts"
   ]
  },
  {
   "cell_type": "markdown",
   "id": "c13e2be0",
   "metadata": {},
   "source": [
    "<br>"
   ]
  },
  {
   "cell_type": "markdown",
   "id": "c1c123e4",
   "metadata": {},
   "source": [
    "### Q7. What is the process for creating a class?"
   ]
  },
  {
   "cell_type": "code",
   "execution_count": 2,
   "id": "f735c7ef",
   "metadata": {},
   "outputs": [
    {
     "name": "stdout",
     "output_type": "stream",
     "text": [
      "name :  sam\n",
      "age :  36\n"
     ]
    }
   ],
   "source": [
    "# A class can be created by using keyword class and the name of the class, followed by colon symbol\n",
    "\n",
    "class Person():\n",
    "    def __init__(self, name, age):\n",
    "        self.name = name\n",
    "        self.age = age\n",
    "    \n",
    "    def display(self):\n",
    "        print(\"name : \", self.name)\n",
    "        print(\"age : \", self.age)\n",
    "        \n",
    "first = Person(\"sam\", 36)\n",
    "first.display()"
   ]
  },
  {
   "cell_type": "markdown",
   "id": "b369a254",
   "metadata": {},
   "source": [
    "<br>"
   ]
  },
  {
   "cell_type": "markdown",
   "id": "4316c40a",
   "metadata": {},
   "source": [
    "### Q8. How would you define the superclasses of a class?\n"
   ]
  },
  {
   "cell_type": "markdown",
   "id": "86d51b60",
   "metadata": {},
   "source": [
    "The class from which a class inherits is called the parent or superclass. A class which inherits from a superclass is called a subclass, also called heir class or child class. Superclasses are sometimes called ancestors as well"
   ]
  },
  {
   "cell_type": "markdown",
   "id": "c36ecafa",
   "metadata": {},
   "source": [
    "<br>"
   ]
  },
  {
   "cell_type": "markdown",
   "id": "a0e44430",
   "metadata": {},
   "source": [
    "### Q9. What is the relationship between classes and modules?"
   ]
  },
  {
   "cell_type": "markdown",
   "id": "69363aa6",
   "metadata": {},
   "source": [
    "What is the relationship between classes and modules in python?\n",
    "So a module in python is simply a way to organize the code, and it contains either python classes or just functions. If you need those classes or functions in your project, you just import them. For instance, the math module in python contains just a bunch of functions, and you just call those needed ( math."
   ]
  },
  {
   "cell_type": "markdown",
   "id": "db464f2c",
   "metadata": {},
   "source": [
    "<br>"
   ]
  },
  {
   "cell_type": "markdown",
   "id": "8fcb7d2a",
   "metadata": {},
   "source": [
    "### Q10. How do you make instances and classes?"
   ]
  },
  {
   "cell_type": "markdown",
   "id": "400fc9f5",
   "metadata": {},
   "source": [
    "To create instances of a class, you call the class using class name and pass in whatever arguments its __init__ method accepts."
   ]
  },
  {
   "cell_type": "markdown",
   "id": "4b17d54d",
   "metadata": {},
   "source": [
    "<br>"
   ]
  },
  {
   "cell_type": "markdown",
   "id": "f8e5745a",
   "metadata": {},
   "source": [
    "### Q11. Where and how should be class attributes created?"
   ]
  },
  {
   "cell_type": "code",
   "execution_count": 5,
   "id": "17684b62",
   "metadata": {},
   "outputs": [
    {
     "name": "stdout",
     "output_type": "stream",
     "text": [
      "this is a function\n",
      "sandy\n"
     ]
    }
   ],
   "source": [
    " # Class attributes belong to the class itself they will be shared by all the instances.\n",
    " # Such attributes are defined in the class body parts usually at the top\n",
    "\n",
    "class A:\n",
    "    temp = \"sandy\"\n",
    "    def func(self):\n",
    "        print(\"this is a function\")\n",
    "    \n",
    "obj = A()\n",
    "obj.func()\n",
    "print(A.temp) # an object is not necessary to call class attributes. "
   ]
  },
  {
   "cell_type": "markdown",
   "id": "4ed771d6",
   "metadata": {},
   "source": [
    "<br>"
   ]
  },
  {
   "cell_type": "markdown",
   "id": "6153a521",
   "metadata": {},
   "source": [
    "### Q12. Where and how are instance attributes created?"
   ]
  },
  {
   "cell_type": "markdown",
   "id": "d5f9a9ad",
   "metadata": {},
   "source": [
    "<br>"
   ]
  },
  {
   "cell_type": "markdown",
   "id": "56eec8bb",
   "metadata": {},
   "source": [
    "### Q13. What does the term \"self\" in a Python class mean?"
   ]
  },
  {
   "cell_type": "markdown",
   "id": "b89a1148",
   "metadata": {},
   "source": [
    "The self parameter is a reference to the current instance of the class, and is used to access variables that belongs to the class."
   ]
  },
  {
   "cell_type": "markdown",
   "id": "e136b89d",
   "metadata": {},
   "source": [
    "<br>"
   ]
  },
  {
   "cell_type": "markdown",
   "id": "df013e3a",
   "metadata": {},
   "source": [
    "### Q14. How does a Python class handle operator overloading?"
   ]
  },
  {
   "cell_type": "markdown",
   "id": "5a590384",
   "metadata": {},
   "source": [
    "<br>"
   ]
  },
  {
   "cell_type": "markdown",
   "id": "220f1958",
   "metadata": {},
   "source": [
    "### Q15. When do you consider allowing operator overloading of your classes?"
   ]
  },
  {
   "cell_type": "code",
   "execution_count": null,
   "id": "8d956c79",
   "metadata": {},
   "outputs": [],
   "source": []
  },
  {
   "cell_type": "markdown",
   "id": "60c5be0f",
   "metadata": {},
   "source": [
    "<br>"
   ]
  },
  {
   "cell_type": "markdown",
   "id": "fa6fcb49",
   "metadata": {},
   "source": [
    "### Q16. What is the most popular form of operator overloading?"
   ]
  },
  {
   "cell_type": "markdown",
   "id": "2e04ee28",
   "metadata": {},
   "source": [
    "If we take Addition(+) operator, consider how the '+' operator operates on two numbers and the same operator operates on two strings. It performs “addition” on numbers whereas it performs “concatenation” on strings."
   ]
  },
  {
   "cell_type": "markdown",
   "id": "6b769629",
   "metadata": {},
   "source": [
    "<br>"
   ]
  },
  {
   "cell_type": "markdown",
   "id": "96f6669d",
   "metadata": {},
   "source": [
    "### Q17. What are the two most important concepts to grasp in order to comprehend Python OOP code?"
   ]
  },
  {
   "cell_type": "markdown",
   "id": "7a7bbdc0",
   "metadata": {},
   "source": [
    "\n",
    "Object-oriented programming has four basic concepts: encapsulation, abstraction, inheritance and polymorphism."
   ]
  },
  {
   "cell_type": "markdown",
   "id": "7214d498",
   "metadata": {},
   "source": [
    "<br>"
   ]
  },
  {
   "cell_type": "markdown",
   "id": "278b6caa",
   "metadata": {},
   "source": [
    "### Q18. Describe three applications for exception processing."
   ]
  },
  {
   "cell_type": "markdown",
   "id": "1f04b175",
   "metadata": {},
   "source": [
    "<br>"
   ]
  },
  {
   "cell_type": "markdown",
   "id": "1910f5b4",
   "metadata": {},
   "source": [
    "### Q19. What happens if you don't do something extra to treat an exception?"
   ]
  },
  {
   "cell_type": "markdown",
   "id": "1b38af37",
   "metadata": {},
   "source": [
    "<br>"
   ]
  },
  {
   "cell_type": "markdown",
   "id": "43d4b45b",
   "metadata": {},
   "source": [
    "### Q20. What are your options for recovering from an exception in your script?"
   ]
  },
  {
   "cell_type": "markdown",
   "id": "99351dde",
   "metadata": {},
   "source": [
    "<br>"
   ]
  },
  {
   "cell_type": "markdown",
   "id": "887e4cd3",
   "metadata": {},
   "source": [
    "### Q21. Describe two methods for triggering exceptions in your script."
   ]
  },
  {
   "cell_type": "code",
   "execution_count": null,
   "id": "eac95b1c",
   "metadata": {},
   "outputs": [],
   "source": []
  },
  {
   "cell_type": "markdown",
   "id": "4abffb21",
   "metadata": {},
   "source": [
    "<br>"
   ]
  },
  {
   "cell_type": "markdown",
   "id": "79033eed",
   "metadata": {},
   "source": [
    "### Q22. Identify two methods for specifying actions to be executed at termination time, regardless of whether or not an exception exists."
   ]
  },
  {
   "cell_type": "code",
   "execution_count": 1,
   "id": "b640e366",
   "metadata": {},
   "outputs": [
    {
     "name": "stdout",
     "output_type": "stream",
     "text": [
      "try block executed\n",
      "else block executed\n",
      "finally block executed\n"
     ]
    }
   ],
   "source": [
    "# else(), finally() will get executed at termination time, regardless of whether or not an exception exists.\n",
    "\n",
    "\n",
    "try:\n",
    "    x= 123/1\n",
    "    print(\"try block executed\")\n",
    "except:\n",
    "    print(\"error\")\n",
    "else:\n",
    "    print(\"else block executed\")\n",
    "finally:\n",
    "    print(\"finally block executed\")"
   ]
  },
  {
   "cell_type": "markdown",
   "id": "0ba526b4",
   "metadata": {},
   "source": [
    "<br>"
   ]
  },
  {
   "cell_type": "markdown",
   "id": "e7b3260b",
   "metadata": {},
   "source": [
    "### Q23. What is the purpose of the try statement?"
   ]
  },
  {
   "cell_type": "code",
   "execution_count": 2,
   "id": "42e35abe",
   "metadata": {},
   "outputs": [
    {
     "name": "stdout",
     "output_type": "stream",
     "text": [
      "error\n"
     ]
    }
   ],
   "source": [
    "# The try statement allows you to define a block of code to be tested for errors while it is being executed\n",
    "\n",
    "try:\n",
    "    x= 123/0\n",
    "except:\n",
    "    print(\"error\")"
   ]
  },
  {
   "cell_type": "markdown",
   "id": "6cdecbd8",
   "metadata": {},
   "source": [
    "<br>"
   ]
  },
  {
   "cell_type": "markdown",
   "id": "0271d21b",
   "metadata": {},
   "source": [
    "### Q24. What are the two most popular try statement variations?"
   ]
  },
  {
   "cell_type": "markdown",
   "id": "27ff5108",
   "metadata": {},
   "source": [
    "<br>"
   ]
  },
  {
   "cell_type": "markdown",
   "id": "354230e3",
   "metadata": {},
   "source": [
    "### Q25. What is the purpose of the raise statement?"
   ]
  },
  {
   "cell_type": "code",
   "execution_count": 17,
   "id": "18e3c53d",
   "metadata": {},
   "outputs": [
    {
     "name": "stdout",
     "output_type": "stream",
     "text": [
      "Enter a number to print it: -3\n"
     ]
    },
    {
     "ename": "Exception",
     "evalue": "Please enter positive number",
     "output_type": "error",
     "traceback": [
      "\u001b[1;31m---------------------------------------------------------------------------\u001b[0m",
      "\u001b[1;31mException\u001b[0m                                 Traceback (most recent call last)",
      "Cell \u001b[1;32mIn [17], line 6\u001b[0m\n\u001b[0;32m      4\u001b[0m user \u001b[38;5;241m=\u001b[39m \u001b[38;5;28mint\u001b[39m(\u001b[38;5;28minput\u001b[39m(\u001b[38;5;124m\"\u001b[39m\u001b[38;5;124mEnter a number to print it: \u001b[39m\u001b[38;5;124m\"\u001b[39m))\n\u001b[0;32m      5\u001b[0m \u001b[38;5;28;01mif\u001b[39;00m user \u001b[38;5;241m<\u001b[39m \u001b[38;5;241m0\u001b[39m:\n\u001b[1;32m----> 6\u001b[0m     \u001b[38;5;28;01mraise\u001b[39;00m \u001b[38;5;167;01mException\u001b[39;00m(\u001b[38;5;124m\"\u001b[39m\u001b[38;5;124mPlease enter positive number\u001b[39m\u001b[38;5;124m\"\u001b[39m)\n\u001b[0;32m      7\u001b[0m \u001b[38;5;28;01melse\u001b[39;00m:\n\u001b[0;32m      8\u001b[0m     \u001b[38;5;28mprint\u001b[39m(user)\n",
      "\u001b[1;31mException\u001b[0m: Please enter positive number"
     ]
    }
   ],
   "source": [
    "# The raise keyword is used to raise an exception.\n",
    "# You can define what kind of error to raise, and the text to print to the user.\n",
    "\n",
    "user = int(input(\"Enter a number to print it: \"))\n",
    "if user < 0:\n",
    "    raise Exception(\"Please enter positive number\")\n",
    "else:\n",
    "    print(user)"
   ]
  },
  {
   "cell_type": "markdown",
   "id": "7dfa4705",
   "metadata": {},
   "source": [
    "<br>"
   ]
  },
  {
   "cell_type": "markdown",
   "id": "1cf64ec1",
   "metadata": {},
   "source": [
    "### Q26. What does the assert statement do, and what other statement is it like?"
   ]
  },
  {
   "cell_type": "code",
   "execution_count": 14,
   "id": "a4966dda",
   "metadata": {},
   "outputs": [
    {
     "ename": "AssertionError",
     "evalue": "name should be sumanth",
     "output_type": "error",
     "traceback": [
      "\u001b[1;31m---------------------------------------------------------------------------\u001b[0m",
      "\u001b[1;31mAssertionError\u001b[0m                            Traceback (most recent call last)",
      "Cell \u001b[1;32mIn [14], line 9\u001b[0m\n\u001b[0;32m      1\u001b[0m \u001b[38;5;124;03m'''\u001b[39;00m\n\u001b[0;32m      2\u001b[0m \u001b[38;5;124;03mThe assert keyword is used while debugging code.\u001b[39;00m\n\u001b[0;32m      3\u001b[0m \u001b[38;5;124;03mThe assert keyword lets you test if a condition in your code returns True, if not, the program will raise an AssertionError.\u001b[39;00m\n\u001b[0;32m      4\u001b[0m \u001b[38;5;124;03mYou can write a message to be printed if the code returns False\u001b[39;00m\n\u001b[0;32m      5\u001b[0m \u001b[38;5;124;03m'''\u001b[39;00m\n\u001b[0;32m      7\u001b[0m name \u001b[38;5;241m=\u001b[39m \u001b[38;5;124m\"\u001b[39m\u001b[38;5;124msumanth\u001b[39m\u001b[38;5;124m\"\u001b[39m\n\u001b[1;32m----> 9\u001b[0m \u001b[38;5;28;01massert\u001b[39;00m name \u001b[38;5;241m==\u001b[39m \u001b[38;5;124m\"\u001b[39m\u001b[38;5;124msunil\u001b[39m\u001b[38;5;124m\"\u001b[39m, \u001b[38;5;124m\"\u001b[39m\u001b[38;5;124mname should be sumanth\u001b[39m\u001b[38;5;124m\"\u001b[39m\n",
      "\u001b[1;31mAssertionError\u001b[0m: name should be sumanth"
     ]
    }
   ],
   "source": [
    "'''\n",
    "The assert keyword is used while debugging code.\n",
    "The assert keyword lets you test if a condition in your code returns True, if not, the program will raise an AssertionError.\n",
    "You can write a message to be printed if the code returns False\n",
    "'''\n",
    "\n",
    "name = \"sumanth\"\n",
    "\n",
    "assert name == \"sunil\", \"name should be sumanth\"\n",
    "\n"
   ]
  },
  {
   "cell_type": "markdown",
   "id": "6434e5a6",
   "metadata": {},
   "source": [
    "<br>"
   ]
  },
  {
   "cell_type": "markdown",
   "id": "c523bd5f",
   "metadata": {},
   "source": [
    "### Q27. What is the purpose of the with/as argument, and what other statement is it like?"
   ]
  },
  {
   "cell_type": "code",
   "execution_count": 10,
   "id": "c11a11e8",
   "metadata": {},
   "outputs": [
    {
     "data": {
      "text/plain": [
       "['Hello world!']"
      ]
     },
     "execution_count": 10,
     "metadata": {},
     "output_type": "execute_result"
    }
   ],
   "source": [
    "# In Python, with statement is used in exception handling instead of try,except,finally statements to make code morereadable and clear. \n",
    "# There is no need to call file.close() when using with statement.\n",
    "\n",
    "with open('sample.txt', 'w') as file:\n",
    "    file.write(\"Hello world!\")\n",
    "\n",
    "read_file = open('sample.txt', 'r')\n",
    "read_file.readlines()"
   ]
  },
  {
   "cell_type": "markdown",
   "id": "edb50f5f",
   "metadata": {},
   "source": [
    "<br>"
   ]
  },
  {
   "cell_type": "markdown",
   "id": "1b7e7ebe",
   "metadata": {},
   "source": [
    "### Q28. What are *args, **kwargs?"
   ]
  },
  {
   "cell_type": "code",
   "execution_count": 1,
   "id": "755f5fa9",
   "metadata": {},
   "outputs": [
    {
     "name": "stdout",
     "output_type": "stream",
     "text": [
      "args: ('sam', 'sandy', 'tommy')\n",
      "kwargs: {'sun': 'today', 'mon': 'thrice', 'tue': 'none'}\n"
     ]
    }
   ],
   "source": [
    "'''\n",
    "*args(non-keyword arguments) is used while defining function parameters which indicates that\n",
    "variable number of arguments can be passed \n",
    "\n",
    "**kwargs is used used while defining function parameters which indicates that \n",
    "variable number of keyword arguments can be passed \n",
    "\n",
    "'''\n",
    "def sample(*args, **kwargs):\n",
    "    print(f\"args: {args}\")\n",
    "    print(f\"kwargs: {kwargs}\")\n",
    "    \n",
    "sample('sam', 'sandy', 'tommy', sun=\"today\", mon=\"thrice\", tue=\"none\")\n",
    "\n"
   ]
  },
  {
   "cell_type": "markdown",
   "id": "b5005945",
   "metadata": {},
   "source": [
    "<br>"
   ]
  },
  {
   "cell_type": "markdown",
   "id": "3676139b",
   "metadata": {},
   "source": [
    "### Q29. How can I pass optional or keyword parameters from one function to another?"
   ]
  },
  {
   "cell_type": "markdown",
   "id": "ce94944b",
   "metadata": {},
   "source": [
    "<br>"
   ]
  },
  {
   "cell_type": "markdown",
   "id": "18773909",
   "metadata": {},
   "source": [
    "### Q30. What are Lambda Functions?"
   ]
  },
  {
   "cell_type": "code",
   "execution_count": 14,
   "id": "5d97beb9",
   "metadata": {},
   "outputs": [
    {
     "name": "stdout",
     "output_type": "stream",
     "text": [
      "Addition = 30\n"
     ]
    }
   ],
   "source": [
    "#A lambda function is a small anonymous function.\n",
    "#A lambda function can take any number of arguments, but can only have one expression.\n",
    "\n",
    "sample_lambda = lambda x,y : x+y\n",
    "print(f\"Addition = {sample_lambda(10,20)}\")"
   ]
  },
  {
   "cell_type": "markdown",
   "id": "799c988f",
   "metadata": {},
   "source": [
    "<br>"
   ]
  },
  {
   "cell_type": "markdown",
   "id": "6fed130f",
   "metadata": {},
   "source": [
    "### Q31. Explain Inheritance in Python with an example?"
   ]
  },
  {
   "cell_type": "code",
   "execution_count": 17,
   "id": "e2224146",
   "metadata": {},
   "outputs": [
    {
     "name": "stdout",
     "output_type": "stream",
     "text": [
      "this is child class\n",
      "this is a sample\n"
     ]
    }
   ],
   "source": [
    "#Inheritance allows us to define a class that inherits all the methods and properties from another class.\n",
    "#Parent class is the class being inherited from, also called base class.\n",
    "#Child class is the class that inherits from another class, also called derived class.\n",
    "\n",
    "class A:\n",
    "    def func(self):\n",
    "        print(\"this is parent class\")\n",
    "    def sample(self):\n",
    "        print(\"this is a sample\")\n",
    "class B(A):\n",
    "    def func(self):\n",
    "        print(\"this is child class\")\n",
    "\n",
    "obj=B()\n",
    "obj.func()\n",
    "obj.sample() # sample() method is defined under class A but inherited by class B and able to use it."
   ]
  },
  {
   "cell_type": "markdown",
   "id": "5e9ad8db",
   "metadata": {},
   "source": [
    "<br>"
   ]
  },
  {
   "cell_type": "markdown",
   "id": "b4f80076",
   "metadata": {},
   "source": [
    "### Q32. Suppose class C inherits from classes A and B as class C(A,B).Classes A and B both have their own versions of method func(). If we call func() from an object of class C, which version gets invoked?"
   ]
  },
  {
   "cell_type": "code",
   "execution_count": 11,
   "id": "4afba58d",
   "metadata": {},
   "outputs": [
    {
     "name": "stdout",
     "output_type": "stream",
     "text": [
      "this is grandfather class\n"
     ]
    }
   ],
   "source": [
    "class A:\n",
    "    def func(self):\n",
    "        print(\"this is grandfather class\")\n",
    "class B:\n",
    "    def func(self):\n",
    "        print(\"this is parent class\")\n",
    "class C(A, B):\n",
    "    pass\n",
    "#     def func(self):\n",
    "#         print(\"this is child class\")\n",
    "obj=C()\n",
    "obj.func()\n",
    "\n",
    "# while defining class C, A is first inherited, so func() method from A will get executed.\n",
    "# If class A and class B have different number of parameters, based of input arguments, particular func() will get executed"
   ]
  },
  {
   "cell_type": "markdown",
   "id": "d79024db",
   "metadata": {},
   "source": [
    "<br>"
   ]
  },
  {
   "cell_type": "markdown",
   "id": "55503928",
   "metadata": {},
   "source": [
    "### Q33. Which methods/functions do we use to determine the type of instance and inheritance?"
   ]
  },
  {
   "cell_type": "markdown",
   "id": "c555aeca",
   "metadata": {},
   "source": [
    "Python has two built-in functions that work with inheritance:<br>\n",
    "\n",
    "Use isinstance() to check an instance's type: isinstance(obj, int) will be True only if obj.__class__ is int or some class derived from int .<br>\n",
    "Use issubclass() to check class inheritance: issubclass(bool, int) is True since bool is a subclass of int ."
   ]
  },
  {
   "cell_type": "markdown",
   "id": "9436ce96",
   "metadata": {},
   "source": [
    "<br>"
   ]
  },
  {
   "cell_type": "markdown",
   "id": "20f787bc",
   "metadata": {},
   "source": [
    "### Q34.Explain the use of the 'nonlocal' keyword in Python."
   ]
  },
  {
   "cell_type": "markdown",
   "id": "4ca977f4",
   "metadata": {},
   "source": [
    "The nonlocal keyword is used to work with variables inside nested functions, where the variable should not belong to the inner function. Use the keyword nonlocal to declare that the variable is not local."
   ]
  },
  {
   "cell_type": "markdown",
   "id": "f65f3b3b",
   "metadata": {},
   "source": [
    "<br>"
   ]
  },
  {
   "cell_type": "markdown",
   "id": "86aaa75c",
   "metadata": {},
   "source": [
    "### Q35. What is the global keyword?"
   ]
  },
  {
   "cell_type": "markdown",
   "id": "7840fd0f",
   "metadata": {},
   "source": [
    "Global keyword is used to modify the global variable outside its current scope and meaning. It is used to make changes in the global variable in a local context. The keyword 'Global' is also used to create or declare a global variable inside a function"
   ]
  },
  {
   "cell_type": "markdown",
   "id": "1ba411db",
   "metadata": {},
   "source": [
    "<br>"
   ]
  },
  {
   "cell_type": "code",
   "execution_count": null,
   "id": "b99e1106",
   "metadata": {},
   "outputs": [],
   "source": []
  }
 ],
 "metadata": {
  "kernelspec": {
   "display_name": "Python 3 (ipykernel)",
   "language": "python",
   "name": "python3"
  },
  "language_info": {
   "codemirror_mode": {
    "name": "ipython",
    "version": 3
   },
   "file_extension": ".py",
   "mimetype": "text/x-python",
   "name": "python",
   "nbconvert_exporter": "python",
   "pygments_lexer": "ipython3",
   "version": "3.10.7"
  }
 },
 "nbformat": 4,
 "nbformat_minor": 5
}
