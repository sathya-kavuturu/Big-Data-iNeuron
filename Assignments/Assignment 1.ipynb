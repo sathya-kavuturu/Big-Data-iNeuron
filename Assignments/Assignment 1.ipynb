{
 "cells": [
  {
   "cell_type": "markdown",
   "id": "b74224db",
   "metadata": {},
   "source": [
    "### Q1. Why do we call Python as a general purpose and high-level programming language?\n"
   ]
  },
  {
   "cell_type": "markdown",
   "id": "dee555f8",
   "metadata": {},
   "source": [
    "Python is  used for general purpose by solving different problems . It is high level because python is written in understandable language"
   ]
  },
  {
   "cell_type": "markdown",
   "id": "b39ab09d",
   "metadata": {},
   "source": [
    "<br>"
   ]
  },
  {
   "cell_type": "markdown",
   "id": "57c0ab81",
   "metadata": {},
   "source": [
    "### Q2. Why is Python called a dynamically typed language?"
   ]
  },
  {
   "cell_type": "markdown",
   "id": "3fb976d8",
   "metadata": {},
   "source": [
    "In python, whie writing code, we don't need to mention data type of a variable.  The type of variable is determined during runtime. That's why, python is called a dynamically typed language."
   ]
  },
  {
   "cell_type": "markdown",
   "id": "265a933c",
   "metadata": {},
   "source": [
    "<br>"
   ]
  },
  {
   "cell_type": "markdown",
   "id": "26fb79fb",
   "metadata": {},
   "source": [
    "### Q3. List some pros and cons of Python programming language?"
   ]
  },
  {
   "cell_type": "markdown",
   "id": "7a52971b",
   "metadata": {},
   "source": [
    "Pros: <br>\n",
    "1. Python is beginner-friendly language to learn and portable( can run code on any OS) <br>\n",
    "2. It has extensive libraries for various tasks <br>\n",
    "3. It has large community <br>\n",
    "4. It is very helpful for those who are into machine learning <br>\n",
    "\n",
    "Cons: <br>\n",
    "1. Python is slower compared to other compiled languages as it takes lot of computational power<br>\n",
    "2. Python takes huge memory consumption <br>\n",
    "3. While setting up work environment in python, many errors may appear. It's better to use an IDE<br>"
   ]
  },
  {
   "cell_type": "markdown",
   "id": "21234b67",
   "metadata": {},
   "source": [
    "<br>"
   ]
  },
  {
   "cell_type": "markdown",
   "id": "0fa44890",
   "metadata": {},
   "source": [
    "### Q4. In what all domains can we use Python?"
   ]
  },
  {
   "cell_type": "markdown",
   "id": "39ccdd45",
   "metadata": {},
   "source": [
    "In following domains, python is being used for: <br>\n",
    "1. Data Science <br>\n",
    "2. Artificial Intelligence <br>\n",
    "3. Machine Learning <br>\n",
    "4. Deep Learning <br>\n",
    "5. Web development <br>\n",
    "6. Game development <br>\n",
    "7. Scientific Programming <br>\n",
    "8. OS development etc.,\n"
   ]
  },
  {
   "cell_type": "markdown",
   "id": "397e71fb",
   "metadata": {},
   "source": [
    "<br>"
   ]
  },
  {
   "cell_type": "markdown",
   "id": "8f4c2543",
   "metadata": {},
   "source": [
    "### Q5. What are variable and how can we declare them?"
   ]
  },
  {
   "cell_type": "markdown",
   "id": "d9032262",
   "metadata": {},
   "source": [
    "Variable is a name given to a particular memory location. So, using that variable name, we can initialise any value into it or modify it using variable name. <br>\n",
    "\n",
    "new_var = \"something\" <br>\n",
    "int_var = 123"
   ]
  },
  {
   "cell_type": "markdown",
   "id": "c13e69d2",
   "metadata": {},
   "source": [
    "<br>"
   ]
  },
  {
   "cell_type": "markdown",
   "id": "d9aeedec",
   "metadata": {},
   "source": [
    "### Q6. How can we take an input from the user in Python?"
   ]
  },
  {
   "cell_type": "code",
   "execution_count": 42,
   "id": "00c34a37",
   "metadata": {},
   "outputs": [
    {
     "name": "stdout",
     "output_type": "stream",
     "text": [
      "what's your name ? : sathya\n",
      "Your name is sathya\n"
     ]
    }
   ],
   "source": [
    "# By using input() statement, we can take input from user in python.\n",
    "# Example: \n",
    "\n",
    "user_name = input(\"what's your name ? : \")\n",
    "print(f\"Your name is {user_name}\")"
   ]
  },
  {
   "cell_type": "markdown",
   "id": "af768c86",
   "metadata": {},
   "source": [
    "<br>"
   ]
  },
  {
   "cell_type": "markdown",
   "id": "95183ffb",
   "metadata": {},
   "source": [
    "### Q7. What is the default datatype of the value that has been taken as an input using input() function?"
   ]
  },
  {
   "cell_type": "markdown",
   "id": "193c9309",
   "metadata": {},
   "source": [
    "Default data type of input value is string type"
   ]
  },
  {
   "cell_type": "markdown",
   "id": "50db1059",
   "metadata": {},
   "source": [
    "<br>"
   ]
  },
  {
   "cell_type": "markdown",
   "id": "9124949d",
   "metadata": {},
   "source": [
    "### Q8. What is type casting?"
   ]
  },
  {
   "cell_type": "code",
   "execution_count": 43,
   "id": "0e639ca7",
   "metadata": {},
   "outputs": [
    {
     "name": "stdout",
     "output_type": "stream",
     "text": [
      "data type of int_var :  <class 'int'>\n",
      "data type of float_var :  <class 'float'>\n"
     ]
    }
   ],
   "source": [
    "#Type casting is about converting data type of a variable into another data type as required.\n",
    "#Example:\n",
    "\n",
    "int_var = 200\n",
    "float_var = float(int_var)\n",
    "print(\"data type of int_var : \", type(int_var))\n",
    "print(\"data type of float_var : \", type(float_var))\n"
   ]
  },
  {
   "cell_type": "markdown",
   "id": "1e9548c5",
   "metadata": {},
   "source": [
    "<br>"
   ]
  },
  {
   "cell_type": "markdown",
   "id": "fbfa751f",
   "metadata": {},
   "source": [
    "### Q9. Can we take more than one input from the user using single input() function? If yes, how? If no, why?"
   ]
  },
  {
   "cell_type": "code",
   "execution_count": 44,
   "id": "438124df",
   "metadata": {},
   "outputs": [
    {
     "name": "stdout",
     "output_type": "stream",
     "text": [
      "Enter two numbers: 12 34\n",
      "num1 is 12\n",
      "num2 is 34\n"
     ]
    }
   ],
   "source": [
    "# Using split() function, we can take multiple inputs\n",
    "\n",
    "num1, num2 = input(\"Enter two numbers: \").split()\n",
    "print(f\"num1 is {num1}\")\n",
    "print(f\"num2 is {num2}\")"
   ]
  },
  {
   "cell_type": "markdown",
   "id": "378ac0ed",
   "metadata": {},
   "source": [
    "<br>"
   ]
  },
  {
   "cell_type": "markdown",
   "id": "f2526176",
   "metadata": {},
   "source": [
    "### Q10. What are keywords?"
   ]
  },
  {
   "cell_type": "markdown",
   "id": "5061a801",
   "metadata": {},
   "source": [
    "Keywords are reserved words that have some meaning and are meant for specific purpose and can be used for only that purpose."
   ]
  },
  {
   "cell_type": "markdown",
   "id": "4c77b22a",
   "metadata": {},
   "source": [
    "<br>"
   ]
  },
  {
   "cell_type": "markdown",
   "id": "d010111d",
   "metadata": {},
   "source": [
    "### Q11. Can we use keywords as a variable? Support your answer with reason."
   ]
  },
  {
   "cell_type": "markdown",
   "id": "1907158d",
   "metadata": {},
   "source": [
    "Keywords can not be used for naming variables as keywords are meant for specific purpose.\n"
   ]
  },
  {
   "cell_type": "markdown",
   "id": "b49ba704",
   "metadata": {},
   "source": [
    "<br>"
   ]
  },
  {
   "cell_type": "markdown",
   "id": "327f6922",
   "metadata": {},
   "source": [
    "### Q12. What is indentation? What's the use of indentaion in Python?"
   ]
  },
  {
   "cell_type": "markdown",
   "id": "02634839",
   "metadata": {},
   "source": [
    "Indentation is nothing but giving a whitspace at starting line of the code.\n",
    "Generally, in other programming languages,  it is meant for readability.\n",
    "But in python, indentation is mandatory to <b>specify a block of code<b>."
   ]
  },
  {
   "cell_type": "markdown",
   "id": "2010259a",
   "metadata": {},
   "source": [
    "<br>"
   ]
  },
  {
   "cell_type": "markdown",
   "id": "2a44bfac",
   "metadata": {},
   "source": [
    "### Q13. How can we throw some output in Python?"
   ]
  },
  {
   "cell_type": "code",
   "execution_count": 45,
   "id": "10766d0f",
   "metadata": {},
   "outputs": [
    {
     "name": "stdout",
     "output_type": "stream",
     "text": [
      "something\n"
     ]
    }
   ],
   "source": [
    "# We can output something in python using print() statement\n",
    "\n",
    "print(\"something\")"
   ]
  },
  {
   "cell_type": "markdown",
   "id": "5c914244",
   "metadata": {},
   "source": [
    "<br>"
   ]
  },
  {
   "cell_type": "markdown",
   "id": "d1c4e5e8",
   "metadata": {},
   "source": [
    "### Q14. What are operators in Python?"
   ]
  },
  {
   "cell_type": "markdown",
   "id": "2220e346",
   "metadata": {},
   "source": [
    "Operators in python are used to perform operations on variables and values.\n",
    "There are different opeartors:\n",
    "1. mathematical operators(+, -, *, /, //, %, **)\n",
    "2. comparision operators(>, <, >=, <=, ==, !=)\n",
    "3. assignment operator(=)\n",
    "4. logical operators(and, or, not)\n",
    "etc."
   ]
  },
  {
   "cell_type": "markdown",
   "id": "1ab86d73",
   "metadata": {},
   "source": [
    "<br>"
   ]
  },
  {
   "cell_type": "markdown",
   "id": "de4650c8",
   "metadata": {},
   "source": [
    "### Q15. What is difference between / and // operators?"
   ]
  },
  {
   "cell_type": "code",
   "execution_count": 46,
   "id": "b88e5149",
   "metadata": {},
   "outputs": [
    {
     "name": "stdout",
     "output_type": "stream",
     "text": [
      "float divison: 3.5\n",
      "integer division: 3\n"
     ]
    }
   ],
   "source": [
    "# / is used for float division and // is used for integer division\n",
    "\n",
    "num1 = 7\n",
    "num2 = 2\n",
    "print(f\"float divison: {num1/num2}\" )\n",
    "print(f\"integer division: {num1//num2}\")\n"
   ]
  },
  {
   "cell_type": "markdown",
   "id": "8206cf79",
   "metadata": {},
   "source": [
    "<br>"
   ]
  },
  {
   "cell_type": "markdown",
   "id": "79dd927c",
   "metadata": {},
   "source": [
    "### Q16. Write a code that gives following as an output.\n",
    "```\n",
    "iNeuroniNeuroniNeuroniNeuron\n",
    "```"
   ]
  },
  {
   "cell_type": "code",
   "execution_count": 48,
   "id": "71e4581d",
   "metadata": {},
   "outputs": [
    {
     "name": "stdout",
     "output_type": "stream",
     "text": [
      "iNeuroniNeuroniNeuroniNeuron"
     ]
    }
   ],
   "source": [
    "for loop in range(4):\n",
    "    print(\"iNeuron\", end = '')"
   ]
  },
  {
   "cell_type": "markdown",
   "id": "5c9b6101",
   "metadata": {},
   "source": [
    "<br>"
   ]
  },
  {
   "cell_type": "markdown",
   "id": "d224a58b",
   "metadata": {},
   "source": [
    "### Q17. Write a code to take a number as an input from the user and check if the number is odd or even."
   ]
  },
  {
   "cell_type": "code",
   "execution_count": 49,
   "id": "a6df67b2",
   "metadata": {},
   "outputs": [
    {
     "name": "stdout",
     "output_type": "stream",
     "text": [
      "Enter a number to check if it's odd or even: 45\n",
      "45 is an Odd number\n"
     ]
    }
   ],
   "source": [
    "number = int(input(\"Enter a number to check if it's odd or even: \"))\n",
    "print(f\"{number} is an Even number\") if number%2==0 else print(f\"{number} is an Odd number\")"
   ]
  },
  {
   "cell_type": "markdown",
   "id": "800aee8f",
   "metadata": {},
   "source": [
    "<br>"
   ]
  },
  {
   "cell_type": "markdown",
   "id": "7c5da04f",
   "metadata": {},
   "source": [
    "### Q18. What are boolean operator?"
   ]
  },
  {
   "cell_type": "code",
   "execution_count": 50,
   "id": "5a53297d",
   "metadata": {},
   "outputs": [
    {
     "name": "stdout",
     "output_type": "stream",
     "text": [
      "Any one condition needs to be satisfied here\n"
     ]
    }
   ],
   "source": [
    "# Boolean opeartors are \"or\", \"not\", \"and\". \n",
    "# They are used to finally get True or False value and\n",
    "# used in conditional or looping statements to get execution of particular code based on conditions.\n",
    "\n",
    "num1 = 1\n",
    "num2 = 2\n",
    "if num1==1 and num2==1:\n",
    "    print(\"Both conditions need to be satisfied here\")\n",
    "if num1==1 or num2==1:\n",
    "    print(\"Any one condition needs to be satisfied here\")\n"
   ]
  },
  {
   "cell_type": "markdown",
   "id": "49179f2b",
   "metadata": {},
   "source": [
    "<br>"
   ]
  },
  {
   "cell_type": "markdown",
   "id": "16108718",
   "metadata": {},
   "source": [
    "### Q19. What will the output of the following?\n",
    "```\n",
    "1 or 0\n",
    "\n",
    "0 and 0\n",
    "\n",
    "True and False and True\n",
    "\n",
    "1 or 0 or 0\n",
    "```"
   ]
  },
  {
   "cell_type": "markdown",
   "id": "aa9e4c6b",
   "metadata": {},
   "source": [
    "True <br>\n",
    "True <br>\n",
    "False <br>\n",
    "True <br>"
   ]
  },
  {
   "cell_type": "markdown",
   "id": "aac7b7c6",
   "metadata": {},
   "source": [
    "<br>"
   ]
  },
  {
   "cell_type": "markdown",
   "id": "1918e9fd",
   "metadata": {},
   "source": [
    "### Q20. What are conditional statements in Python?"
   ]
  },
  {
   "cell_type": "markdown",
   "id": "512ab2c7",
   "metadata": {},
   "source": [
    "Conditionl statements in python represent having a condition and by satisfying the condition, code under that condition will get executed\n",
    "\n",
    "There are 3 conditional statements in python: if, if-else, if-elif-else.\n"
   ]
  },
  {
   "cell_type": "markdown",
   "id": "47611815",
   "metadata": {},
   "source": [
    "<br>"
   ]
  },
  {
   "cell_type": "markdown",
   "id": "75c0103c",
   "metadata": {},
   "source": [
    "### Q21. What is use of 'if', 'elif' and 'else' keywords?"
   ]
  },
  {
   "cell_type": "code",
   "execution_count": 51,
   "id": "5cf42af7",
   "metadata": {},
   "outputs": [
    {
     "name": "stdout",
     "output_type": "stream",
     "text": [
      "Number is 3\n"
     ]
    }
   ],
   "source": [
    "#  'if', 'elif' and 'else' keywords are used in conditional statements \n",
    "# if statement is used to execute code block under it if condition is true.\n",
    "# elif statement is used after if statement, in case if statement is false, then it goes for the lif statement.\n",
    "# else statement's code block get executed when above if and elif statements conditions are false\n",
    "\n",
    "num = 3\n",
    "if num==1:\n",
    "    print(\"Number is 1\")\n",
    "elif num==2:\n",
    "    print(\"Number is 2\")\n",
    "elif num==3:\n",
    "    print(\"Number is 3\")\n",
    "else:\n",
    "    print(\"other number\")\n"
   ]
  },
  {
   "cell_type": "markdown",
   "id": "8beed037",
   "metadata": {},
   "source": [
    "<br>"
   ]
  },
  {
   "cell_type": "markdown",
   "id": "378eff0e",
   "metadata": {},
   "source": [
    "### Q22. Write a code to take the age of person as an input and if age >= 18 display \"I can vote\". If age is < 18 display \"I can't vote\"."
   ]
  },
  {
   "cell_type": "code",
   "execution_count": 52,
   "id": "d6a95058",
   "metadata": {},
   "outputs": [
    {
     "name": "stdout",
     "output_type": "stream",
     "text": [
      "Enter your age to know if you can vote or not: 45\n",
      "I can vote\n"
     ]
    }
   ],
   "source": [
    "age = int(input(\"Enter your age to know if you can vote or not: \"))\n",
    "if age >= 18:\n",
    "    print(\"I can vote\")\n",
    "elif age < 18 and age > 0:\n",
    "    print(\"I can't vote\")\n",
    "else:\n",
    "    print(\"Age can't be negative\")"
   ]
  },
  {
   "cell_type": "markdown",
   "id": "43e66e46",
   "metadata": {},
   "source": [
    "<br>"
   ]
  },
  {
   "cell_type": "markdown",
   "id": "9031a354",
   "metadata": {},
   "source": [
    "### Q23. Write a code that displays the sum of all the even numbers from the given list.\n",
    "```\n",
    "numbers = [12, 75, 150, 180, 145, 525, 50]\n",
    "```"
   ]
  },
  {
   "cell_type": "code",
   "execution_count": 53,
   "id": "6f1a1b9d",
   "metadata": {},
   "outputs": [
    {
     "name": "stdout",
     "output_type": "stream",
     "text": [
      "1137\n"
     ]
    }
   ],
   "source": [
    "numbers = [12, 75, 150, 180, 145, 525, 50]\n",
    "\n",
    "# print(sum(numbers))\n",
    "# or\n",
    "\n",
    "sum = 0\n",
    "for each_num in numbers:\n",
    "    sum += each_num\n",
    "print(sum)\n",
    "    "
   ]
  },
  {
   "cell_type": "markdown",
   "id": "94d9b4ee",
   "metadata": {},
   "source": [
    "<br>"
   ]
  },
  {
   "cell_type": "markdown",
   "id": "e9293805",
   "metadata": {},
   "source": [
    "### Q24. Write a code to take 3 numbers as an input from the user and display the greatest no as output."
   ]
  },
  {
   "cell_type": "code",
   "execution_count": 54,
   "id": "6ac14b78",
   "metadata": {},
   "outputs": [
    {
     "name": "stdout",
     "output_type": "stream",
     "text": [
      "Enter three numbers: 1 2 3\n",
      "3 is the greatest number\n"
     ]
    }
   ],
   "source": [
    "num1, num2, num3 = input(\"Enter three numbers: \" ).split()\n",
    "\n",
    "# print(max(num1, num2, num3)) \n",
    "# or \n",
    "\n",
    "if num1 > num2 and num1 > num3:\n",
    "    print(f\"{num1} is the greatest number\")\n",
    "elif num2>num1 and num2>num3:\n",
    "    print(f\"{num2} is the greatest number\")\n",
    "else:\n",
    "    print(f\"{num3} is the greatest number\")\n"
   ]
  },
  {
   "cell_type": "markdown",
   "id": "af0017b1",
   "metadata": {},
   "source": [
    "<br>"
   ]
  },
  {
   "cell_type": "markdown",
   "id": "b8ea83e8",
   "metadata": {},
   "source": [
    "### Q25. Write a program to display only those numbers from a list that satisfy the following conditions\n",
    "\n",
    "- The number must be divisible by five\n",
    "\n",
    "- If the number is greater than 150, then skip it and move to the next number\n",
    "\n",
    "- If the number is greater than 500, then stop the loop\n",
    "```\n",
    "numbers = [12, 75, 150, 180, 145, 525, 50]"
   ]
  },
  {
   "cell_type": "code",
   "execution_count": 55,
   "id": "bb5b35d3",
   "metadata": {},
   "outputs": [
    {
     "name": "stdout",
     "output_type": "stream",
     "text": [
      "[75, 150, 145]\n"
     ]
    }
   ],
   "source": [
    "numbers = [12, 75, 150, 180, 145, 525, 50]\n",
    "new_list = []\n",
    "for each_num in numbers:\n",
    "    if each_num > 500:\n",
    "        break\n",
    "    elif each_num > 150:\n",
    "        continue\n",
    "    elif each_num%5 == 0:\n",
    "        new_list.append(each_num)\n",
    "\n",
    "print(new_list)"
   ]
  },
  {
   "cell_type": "code",
   "execution_count": null,
   "id": "42035df4",
   "metadata": {},
   "outputs": [],
   "source": []
  }
 ],
 "metadata": {
  "kernelspec": {
   "display_name": "Python 3 (ipykernel)",
   "language": "python",
   "name": "python3"
  },
  "language_info": {
   "codemirror_mode": {
    "name": "ipython",
    "version": 3
   },
   "file_extension": ".py",
   "mimetype": "text/x-python",
   "name": "python",
   "nbconvert_exporter": "python",
   "pygments_lexer": "ipython3",
   "version": "3.10.6"
  }
 },
 "nbformat": 4,
 "nbformat_minor": 5
}
