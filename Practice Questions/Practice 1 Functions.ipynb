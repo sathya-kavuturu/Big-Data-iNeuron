{
 "cells": [
  {
   "cell_type": "code",
   "execution_count": 1,
   "id": "e9a48fe6",
   "metadata": {},
   "outputs": [
    {
     "ename": "SyntaxError",
     "evalue": "invalid syntax (2647251408.py, line 1)",
     "output_type": "error",
     "traceback": [
      "\u001b[1;36m  Cell \u001b[1;32mIn [1], line 1\u001b[1;36m\u001b[0m\n\u001b[1;33m    1 . you have to write a fun which will take string and return a len of\u001b[0m\n\u001b[1;37m            ^\u001b[0m\n\u001b[1;31mSyntaxError\u001b[0m\u001b[1;31m:\u001b[0m invalid syntax\n"
     ]
    }
   ],
   "source": [
    "1 . you have to write a fun which will take string and return a len of \n",
    "it without using a inbuilt fun len\n",
    "2 . write a fun which will be able to print an index of all premitive element which you will pass \n",
    "3 . Write a fun which will take input as a dict and give me out as a list of all the values \n",
    "even in case of 2 level nesting it should work . \n",
    "4 . write a fun which will take another function as an input and return me an output \n",
    "5. write a function whihc will take multiple list as a input and give me concatnation of all the element as \n",
    "and output \n",
    "6 . write a function which will be able to take a list as an input return an index of each element \n",
    "like a inbuilt index function but even if we have repetative element it should return index \n",
    "7 . Write a function which will whould return list of all the file name from a directory . \n",
    "8  . write a function which will be able to show your system configuration . \n",
    "9 . write a function which will be able to show date and time  . \n",
    "10 . write a function whihc will be able to read a image file and show it to you .\n",
    "11 . write a function which can read video file and play for you . \n",
    "12  . write a function whihc can move a file from one directory to another directory . \n",
    "13 . write a function which will be able to shutdonw your system . \n",
    "14 . write a function whihc will be able to access your mail . \n",
    "15 . write a func bywhcih i can send a mail to anyone \n",
    "16. write a func to read a complete PDf file . \n",
    "17. write a function to read a word file . \n",
    "18 . write a function which can help you to filter only word file from a directory . \n",
    "19 . write a function by which you can print an ip address of your system . \n",
    "20 . write a function by which you will be able to append two PDF files . "
   ]
  },
  {
   "cell_type": "markdown",
   "id": "e25e0731",
   "metadata": {},
   "source": [
    "### 1 . you have to write a fun which will take string and return a len of it without using a inbuilt fun len()"
   ]
  },
  {
   "cell_type": "code",
   "execution_count": 12,
   "id": "e24a8342",
   "metadata": {},
   "outputs": [
    {
     "name": "stdout",
     "output_type": "stream",
     "text": [
      "Length of the string is 11\n"
     ]
    }
   ],
   "source": [
    "def str_len(user_str):\n",
    "    count = 0\n",
    "    for char in user_str:\n",
    "        count += 1\n",
    "    return count\n",
    "\n",
    "str1 = \"i am sathya\"\n",
    "print(f\"Length of the string is {str_len(str1)}\")"
   ]
  },
  {
   "cell_type": "markdown",
   "id": "320b068b",
   "metadata": {},
   "source": [
    "<br>"
   ]
  },
  {
   "cell_type": "markdown",
   "id": "61012ca2",
   "metadata": {},
   "source": [
    "### 2 . write a fun which will be able to print an index of all premitive element which you will pass "
   ]
  },
  {
   "cell_type": "code",
   "execution_count": 21,
   "id": "8250b290",
   "metadata": {},
   "outputs": [
    {
     "name": "stdout",
     "output_type": "stream",
     "text": [
      "0  -  1\n",
      "1  -  23\n",
      "2  -  4\n",
      "3  -  5\n",
      "4  -  13\n",
      "5  -  13\n",
      "\n",
      "0  -  I\n",
      "1  -   \n",
      "2  -  a\n",
      "3  -  m\n",
      "4  -   \n",
      "5  -  s\n",
      "6  -  a\n",
      "7  -  t\n",
      "8  -  h\n",
      "9  -  y\n",
      "10  -  a\n"
     ]
    }
   ],
   "source": [
    "def indexing(string):\n",
    "    for i,char in enumerate(string):\n",
    "        print(i,\" - \", char)\n",
    "\n",
    "list1 = [1,23,4,5,13,13]\n",
    "str1 = \"I am sathya\"\n",
    "indexing(list1)\n",
    "print()\n",
    "indexing(str1)\n",
    "        "
   ]
  },
  {
   "cell_type": "markdown",
   "id": "45109d06",
   "metadata": {},
   "source": [
    "<br>"
   ]
  },
  {
   "cell_type": "markdown",
   "id": "638fe5bd",
   "metadata": {},
   "source": [
    "### 3 . Write a fun which will take input as a dict and give me out as a list of all the values even in case of 2 level nesting it should work ."
   ]
  },
  {
   "cell_type": "code",
   "execution_count": 33,
   "id": "43029bd2",
   "metadata": {},
   "outputs": [
    {
     "name": "stdout",
     "output_type": "stream",
     "text": [
      "['I', ' ', 'a', 'm', ' ', 's', 'a', 't', 'h', 'y', 'a', 1234, 'something']\n"
     ]
    }
   ],
   "source": [
    "def dict_values(user):\n",
    "    list1 = []\n",
    "    for item in user.values():\n",
    "        if type(item)==dict:\n",
    "            for each in item.values():\n",
    "                list1.append(each)\n",
    "            continue\n",
    "        list1.append(item)\n",
    "    return list1\n",
    "\n",
    "dict1 = {\n",
    " 0: 'I',\n",
    " 1: ' ',\n",
    " 2: 'a',\n",
    " 3: 'm',\n",
    " 4: ' ',\n",
    " 5: 's',\n",
    " 6: 'a',\n",
    " 7: 't',\n",
    " 8: 'h',\n",
    " 9: 'y',\n",
    " 10: 'a',\n",
    " \"sathya\": {\n",
    "     \"id\" : 1234,\n",
    "     \"department\" : \"something\"\n",
    " }\n",
    "}\n",
    "\n",
    "print(dict_values(dict1))"
   ]
  },
  {
   "cell_type": "markdown",
   "id": "67f7aae2",
   "metadata": {},
   "source": [
    "<br>"
   ]
  },
  {
   "cell_type": "markdown",
   "id": "16c29d36",
   "metadata": {},
   "source": [
    "### 4 . write a fun which will take another function as an input and return me an output "
   ]
  },
  {
   "cell_type": "code",
   "execution_count": null,
   "id": "4ea43c71",
   "metadata": {},
   "outputs": [],
   "source": []
  }
 ],
 "metadata": {
  "kernelspec": {
   "display_name": "Python 3 (ipykernel)",
   "language": "python",
   "name": "python3"
  },
  "language_info": {
   "codemirror_mode": {
    "name": "ipython",
    "version": 3
   },
   "file_extension": ".py",
   "mimetype": "text/x-python",
   "name": "python",
   "nbconvert_exporter": "python",
   "pygments_lexer": "ipython3",
   "version": "3.10.7"
  }
 },
 "nbformat": 4,
 "nbformat_minor": 5
}
